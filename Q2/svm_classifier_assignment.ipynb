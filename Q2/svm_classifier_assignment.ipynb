{
  "metadata": {
    "kernelspec": {
      "display_name": "Python 3",
      "language": "python",
      "name": "python3"
    },
    "language_info": {
      "codemirror_mode": {
        "name": "ipython",
        "version": 3
      },
      "file_extension": ".py",
      "mimetype": "text/x-python",
      "name": "python",
      "nbconvert_exporter": "python",
      "pygments_lexer": "ipython3",
      "version": "3.7.0"
    },
    "colab": {
      "name": "svm-classifier-assignment.ipynb",
      "provenance": [],
      "include_colab_link": true
    }
  },
  "nbformat_minor": 0,
  "nbformat": 4,
  "cells": [
    {
      "cell_type": "markdown",
      "metadata": {
        "id": "view-in-github",
        "colab_type": "text"
      },
      "source": [
        "<a href=\"https://colab.research.google.com/github/ShreeyashGo/CTE_Intro2ML_Workshop/blob/main/Q2/svm_classifier_assignment.ipynb\" target=\"_parent\"><img src=\"https://colab.research.google.com/assets/colab-badge.svg\" alt=\"Open In Colab\"/></a>"
      ]
    },
    {
      "cell_type": "markdown",
      "source": [
        "<a class=\"anchor\" id=\"0\"></a>\n",
        "# **Support Vector Machines Classifier Tutorial with Python** \n",
        "\n"
      ],
      "metadata": {
        "id": "By-bY7wr2650"
      }
    },
    {
      "cell_type": "markdown",
      "source": [
        "# **2. Support Vector Machines intuition** <a class=\"anchor\" id=\"2\"></a>\n",
        "\n",
        "\n",
        "\n",
        "\n",
        "Now, we should be familiar with some SVM terminology. \n",
        "\n",
        "\n",
        "### Hyperplane\n",
        "\n",
        "A hyperplane is a decision boundary which separates between given set of data points having different class labels. The SVM classifier separates data points using a hyperplane with the maximum amount of margin. This hyperplane is known as the `maximum margin hyperplane` and the linear classifier it defines is known as the `maximum margin classifier`.\n",
        "\n",
        "\n",
        "### Support Vectors\n",
        "\n",
        "Support vectors are the sample data points, which are closest to the hyperplane.  These data points will define the separating line or hyperplane better by calculating margins.\n",
        "\n",
        "\n",
        "### Margin\n",
        "\n",
        "A margin is a separation gap between the two lines on the closest data points. It is calculated as the perpendicular distance from the line to support vectors or closest data points. In SVMs, we try to maximize this separation gap so that we get maximum margin.\n",
        "\n",
        "The following diagram illustrates these concepts visually.\n",
        "\n",
        "\n",
        "### Margin in SVM\n",
        "\n",
        "![Margin in SVM](https://static.wixstatic.com/media/8f929f_7ecacdcf69d2450087cb4a898ef90837~mv2.png)\n",
        "\n",
        "\n",
        "### SVM Under the hood\n",
        "\n",
        "In SVMs, our main objective is to select a hyperplane with the maximum possible margin between support vectors in the given dataset. SVM searches for the maximum margin hyperplane in the following 2 step process –\n",
        "\n",
        "\n",
        "1.\tGenerate hyperplanes which segregates the classes in the best possible way. There are many hyperplanes that might classify the data. We should look for the best hyperplane that represents the largest separation, or margin, between the two classes.\n",
        "\n",
        "2.\tSo, we choose the hyperplane so that distance from it to the support vectors on each side is maximized. If such a hyperplane exists, it is known as the **maximum margin hyperplane** and the linear classifier it defines is known as a **maximum margin classifier**. \n",
        "\n",
        "\n",
        "The following diagram illustrates the concept of **maximum margin** and **maximum margin hyperplane** in a clear manner.\n",
        "\n",
        "\n",
        "### Maximum margin hyperplane\n",
        "\n",
        "![Maximum margin hyperplane](https://static.packt-cdn.com/products/9781783555130/graphics/3547_03_07.jpg)\n",
        "\n",
        "\n",
        "\n",
        "### Problem with dispersed datasets\n",
        "\n",
        "\n",
        "Sometimes, the sample data points are so dispersed that it is not possible to separate them using a linear hyperplane. \n",
        "In such a situation, SVMs uses a `kernel trick` to transform the input space to a higher dimensional space as shown in the diagram below. It uses a mapping function to transform the 2-D input space into the 3-D input space. Now, we can easily segregate the data points using linear separation.\n",
        "\n",
        "\n",
        "### Kernel trick - transformation of input space to higher dimensional space\n",
        "\n",
        "![Kernel trick](http://www.aionlinecourse.com/uploads/tutorials/2019/07/11_21_kernel_svm_3.png)\n",
        "\n"
      ],
      "metadata": {
        "id": "1b6hT5cC2657"
      }
    },
    {
      "cell_type": "markdown",
      "source": [
        "# **3. Kernel trick** <a class=\"anchor\" id=\"3\"></a>\n",
        "\n",
        "\n",
        "\n",
        "\n",
        "In practice, SVM algorithm is implemented using a `kernel`. It uses a technique called the `kernel trick`. In simple words, a `kernel` is just a function that maps the data to a higher dimension where data is separable. A kernel transforms a low-dimensional input data space into a higher dimensional space. So, it converts non-linear separable problems to linear separable problems by adding more dimensions to it. Thus, the kernel trick helps us to build a more accurate classifier. Hence, it is useful in non-linear separation problems."
      ],
      "metadata": {
        "id": "OMO_4hiz2659"
      }
    },
    {
      "cell_type": "markdown",
      "source": [
        "We can define a kernel function as follows-\n",
        "\n",
        "\n",
        "### Kernel function\n",
        "\n",
        "![Kernel function](https://encrypted-tbn0.gstatic.com/images?q=tbn:ANd9GcTodZptqcRor0LGo8Qn7_kJB9n9BACMt6jgIPZ4C3g_rgh_uSRZLQ&s)"
      ],
      "metadata": {
        "id": "jpV08-R9265-"
      }
    },
    {
      "cell_type": "markdown",
      "source": [
        "In the context of SVMs, there are 4 popular kernels – `Linear kernel`,`Polynomial kernel`,`Radial Basis Function (RBF) kernel` (also called Gaussian kernel) and `Sigmoid kernel`. These are described below -"
      ],
      "metadata": {
        "id": "e_fQU5zC265_"
      }
    },
    {
      "cell_type": "markdown",
      "source": [
        "## **3.1 Linear kernel**\n",
        "\n",
        "In linear kernel, the kernel function takes the form of a linear function as follows-\n",
        "\n",
        "**linear kernel : K(xi , xj ) = xiT xj**\n",
        "\n",
        "Linear kernel is used when the data is linearly separable. It means that data can be separated using a single line. It is one of the most common kernels to be used. It is mostly used when there are large number of features in a dataset. Linear kernel is often used for text classification purposes.\n",
        "\n",
        "Training with a linear kernel is usually faster, because we only need to optimize the C regularization parameter. When training with other kernels, we also need to optimize the γ parameter. So, performing a grid search will usually take more time.\n",
        "\n",
        "Linear kernel can be visualized with the following figure.\n",
        "\n",
        "### Linear Kernel\n",
        "\n",
        "![Linear Kernel](https://scikit-learn.org/stable/_images/sphx_glr_plot_svm_kernels_thumb.png)"
      ],
      "metadata": {
        "id": "SseZgPD_265_"
      }
    },
    {
      "cell_type": "markdown",
      "source": [
        "## **3.2 Polynomial Kernel**\n",
        "\n",
        "Polynomial kernel represents the similarity of vectors (training samples) in a feature space over polynomials of the original variables. The polynomial kernel looks not only at the given features of input samples to determine their similarity, but also combinations of the input samples.\n",
        "\n",
        "For degree-d polynomials, the polynomial kernel is defined as follows –\n",
        "\n",
        "**Polynomial kernel : K(xi , xj ) = (γxiT xj + r)d , γ > 0**\n",
        "\n",
        "Polynomial kernel is very popular in Natural Language Processing. The most common degree is d = 2 (quadratic), since larger degrees tend to overfit on NLP problems. It can be visualized with the following diagram.\n",
        "\n",
        "### Polynomial Kernel\n",
        "\n",
        "![Polynomial Kernel](https://www.researchgate.net/profile/Cheng_Soon_Ong/publication/23442384/figure/fig12/AS:341444054274063@1458418014823/The-effect-of-the-degree-of-a-polynomial-kernel-The-polynomial-kernel-of-degree-1-leads.png)"
      ],
      "metadata": {
        "id": "gPvihscg266A"
      }
    },
    {
      "cell_type": "markdown",
      "source": [
        "## **3.3 Radial Basis Function Kernel**\n",
        "\n",
        "Radial basis function kernel is a general purpose kernel. It is used when we have no prior knowledge about the data. The RBF kernel on two samples x and y is defined by the following equation –\n",
        "\n",
        "\n",
        "### Radial Basis Function kernel\n",
        "\n",
        "![RBK Kernel](data:image/png;base64,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)"
      ],
      "metadata": {
        "id": "T4KSsRjl266B"
      }
    },
    {
      "cell_type": "markdown",
      "source": [
        "The following diagram demonstrates the SVM classification with rbf kernel.\n",
        "\n",
        "### SVM Classification with rbf kernel\n",
        "\n",
        "![SVM Classification with rbf kernel](https://www.researchgate.net/profile/Periklis_Gogas/publication/286180566/figure/fig5/AS:304327777374210@1449568804246/An-example-of-an-SVM-classification-using-the-RBF-kernel-The-two-classes-are-separated.png)"
      ],
      "metadata": {
        "id": "WMTgPFR0266D"
      }
    },
    {
      "cell_type": "markdown",
      "source": [
        "## **3.4 Sigmoid kernel**\n",
        "\n",
        "Sigmoid kernel has its origin in neural networks. We can use it as the proxy for neural networks. Sigmoid kernel is given by the following equation –\n",
        "\n",
        "**sigmoid kernel : k (x, y) = tanh(αxTy + c)**"
      ],
      "metadata": {
        "id": "vnqW9WB6266E"
      }
    },
    {
      "cell_type": "markdown",
      "source": [
        "Sigmoid kernel can be visualized with the following diagram-\n",
        "\n",
        "### Sigmoid kernel\n",
        "\n",
        "![Sigmoid kernel](https://encrypted-tbn0.gstatic.com/images?q=tbn:ANd9GcTKeXbOIlniBXYwMYlEYLKPwZZg8vFU1wVm3RWMACjVcT4iBVDy&s)"
      ],
      "metadata": {
        "id": "OqERWGQM266F"
      }
    },
    {
      "cell_type": "markdown",
      "source": [
        "# **4. SVM Scikit-Learn libraries** <a class=\"anchor\" id=\"4\"></a>\n",
        "\n",
        "\n",
        "\n",
        "Scikit-Learn provides useful libraries to implement Support Vector Machine algorithm on a dataset. There are many libraries that can help us to implement SVM smoothly. We just need to call the library with parameters that suit to our needs. In this project, I am dealing with a classification task. So, I will mention the Scikit-Learn libraries for SVM classification purposes.\n",
        "\n",
        "First, there is a **LinearSVC()** classifier. As the name suggests, this classifier uses only linear kernel. In LinearSVC() classifier, we don’t pass the value of kernel since it is used only for linear classification purposes.\n",
        "\n",
        "Scikit-Learn provides two other classifiers - **SVC()** and **NuSVC()** which are used for classification purposes. These classifiers are mostly similar with some difference in parameters. **NuSVC()** is similar to **SVC()** but uses a parameter to control the number of support vectors. We pass the values of kernel, gamma and C along with other parameters. By default kernel parameter uses rbf as its value but we can pass values like poly, linear, sigmoid or callable function."
      ],
      "metadata": {
        "id": "v6PXyqa0266F"
      }
    },
    {
      "cell_type": "markdown",
      "source": [
        "# **5. Dataset description** <a class=\"anchor\" id=\"5\"></a>\n",
        "\n",
        "\n",
        "\n",
        "I have used the **Predicting a Pulsar Star** dataset for this project.\n",
        "\n",
        "Pulsars are a rare type of Neutron star that produce radio emission detectable here on Earth. They are of considerable scientific interest as probes of space-time, the inter-stellar medium, and states of matter. Classification algorithms in particular are being adopted, which treat the data sets as binary classification problems. Here the legitimate pulsar examples form  minority positive class and spurious examples form the majority negative class.\n",
        "\n",
        "The data set shared here contains 16,259 spurious examples caused by RFI/noise, and 1,639 real pulsar examples. Each row lists the variables first, and the class label is the final entry. The class labels used are 0 (negative) and 1 (positive).\n",
        "\n",
        "\n",
        "### Attribute Information:\n",
        "\n",
        "\n",
        "Each candidate is described by 8 continuous variables, and a single class variable. The first four are simple statistics obtained from the integrated pulse profile. The remaining four variables are similarly obtained from the DM-SNR curve . These are summarised below:\n",
        "\n",
        "1. Mean of the integrated profile.\n",
        "\n",
        "2. Standard deviation of the integrated profile.\n",
        "\n",
        "3. Excess kurtosis of the integrated profile.\n",
        "\n",
        "4. Skewness of the integrated profile.\n",
        "\n",
        "5. Mean of the DM-SNR curve.\n",
        "\n",
        "6. Standard deviation of the DM-SNR curve.\n",
        "\n",
        "7. Excess kurtosis of the DM-SNR curve.\n",
        "\n",
        "8. Skewness of the DM-SNR curve.\n",
        "\n",
        "9. Class"
      ],
      "metadata": {
        "id": "zx5mZdnC266F"
      }
    },
    {
      "cell_type": "markdown",
      "source": [
        "# **6. Import libraries** <a class=\"anchor\" id=\"6\"></a>\n",
        "\n",
        "\n",
        "\n",
        "I will start off by importing the required Python libraries."
      ],
      "metadata": {
        "id": "gzFHkwUr266G"
      }
    },
    {
      "cell_type": "code",
      "source": [
        "#import librariees \n",
        "import sklearn\n",
        "import pandas as pd\n",
        "import numpy as np\n",
        "import random\n",
        "import matplotlib.pyplot as plt\n"
      ],
      "metadata": {
        "trusted": true,
        "id": "uMCZwlYR266G"
      },
      "execution_count": 40,
      "outputs": []
    },
    {
      "cell_type": "markdown",
      "source": [
        "# **7.Import dataset** <a class=\"anchor\" id=\"7\"></a>\n"
      ],
      "metadata": {
        "id": "807Rpo_V266H"
      }
    },
    {
      "cell_type": "code",
      "source": [
        "#load the data\n",
        "train = pd.read_csv('/content/pulsar_data_train.csv')\n",
        "test = pd.read_csv('/content/pulsar_data_test.csv')\n",
        "\n",
        "#convert the data into a dataframe\n",
        "df = pd.DataFrame(train)\n",
        "dft = pd.DataFrame(test)"
      ],
      "metadata": {
        "trusted": true,
        "id": "y0-3MtTI266H"
      },
      "execution_count": 63,
      "outputs": []
    },
    {
      "cell_type": "markdown",
      "source": [
        "# **8. Exploratory data analysis** <a class=\"anchor\" id=\"8\"></a>\n",
        "\n",
        "\n",
        "\n",
        "\n",
        "Now, I will explore the data to gain insights about the data. "
      ],
      "metadata": {
        "id": "LndSwhk5266H"
      }
    },
    {
      "cell_type": "code",
      "source": [
        "# view dimensions of dataset\n",
        "df.shape"
      ],
      "metadata": {
        "trusted": true,
        "id": "D3gzNf_N266I",
        "colab": {
          "base_uri": "https://localhost:8080/"
        },
        "outputId": "197078b6-91a4-48d7-f493-80396649c78b"
      },
      "execution_count": 64,
      "outputs": [
        {
          "output_type": "execute_result",
          "data": {
            "text/plain": [
              "(12528, 9)"
            ]
          },
          "metadata": {},
          "execution_count": 64
        }
      ]
    },
    {
      "cell_type": "markdown",
      "source": [
        "We can see that there are 17898 instances and 9 variables in the data set."
      ],
      "metadata": {
        "id": "1jDujuCN266I"
      }
    },
    {
      "cell_type": "code",
      "source": [
        "# let's preview the dataset\n",
        "df"
      ],
      "metadata": {
        "scrolled": true,
        "trusted": true,
        "id": "RvQM4XkP266I",
        "colab": {
          "base_uri": "https://localhost:8080/",
          "height": 502
        },
        "outputId": "dbe5635d-5d3b-4024-9394-f12fd939f2ef"
      },
      "execution_count": 65,
      "outputs": [
        {
          "output_type": "execute_result",
          "data": {
            "text/html": [
              "\n",
              "  <div id=\"df-fa2ce355-dabf-47bf-a649-9cb553f8e935\">\n",
              "    <div class=\"colab-df-container\">\n",
              "      <div>\n",
              "<style scoped>\n",
              "    .dataframe tbody tr th:only-of-type {\n",
              "        vertical-align: middle;\n",
              "    }\n",
              "\n",
              "    .dataframe tbody tr th {\n",
              "        vertical-align: top;\n",
              "    }\n",
              "\n",
              "    .dataframe thead th {\n",
              "        text-align: right;\n",
              "    }\n",
              "</style>\n",
              "<table border=\"1\" class=\"dataframe\">\n",
              "  <thead>\n",
              "    <tr style=\"text-align: right;\">\n",
              "      <th></th>\n",
              "      <th>Mean of the integrated profile</th>\n",
              "      <th>Standard deviation of the integrated profile</th>\n",
              "      <th>Excess kurtosis of the integrated profile</th>\n",
              "      <th>Skewness of the integrated profile</th>\n",
              "      <th>Mean of the DM-SNR curve</th>\n",
              "      <th>Standard deviation of the DM-SNR curve</th>\n",
              "      <th>Excess kurtosis of the DM-SNR curve</th>\n",
              "      <th>Skewness of the DM-SNR curve</th>\n",
              "      <th>target_class</th>\n",
              "    </tr>\n",
              "  </thead>\n",
              "  <tbody>\n",
              "    <tr>\n",
              "      <th>0</th>\n",
              "      <td>121.156250</td>\n",
              "      <td>48.372971</td>\n",
              "      <td>0.375485</td>\n",
              "      <td>-0.013165</td>\n",
              "      <td>3.168896</td>\n",
              "      <td>18.399367</td>\n",
              "      <td>7.449874</td>\n",
              "      <td>65.159298</td>\n",
              "      <td>0.0</td>\n",
              "    </tr>\n",
              "    <tr>\n",
              "      <th>1</th>\n",
              "      <td>76.968750</td>\n",
              "      <td>36.175557</td>\n",
              "      <td>0.712898</td>\n",
              "      <td>3.388719</td>\n",
              "      <td>2.399666</td>\n",
              "      <td>17.570997</td>\n",
              "      <td>9.414652</td>\n",
              "      <td>102.722975</td>\n",
              "      <td>0.0</td>\n",
              "    </tr>\n",
              "    <tr>\n",
              "      <th>2</th>\n",
              "      <td>130.585938</td>\n",
              "      <td>53.229534</td>\n",
              "      <td>0.133408</td>\n",
              "      <td>-0.297242</td>\n",
              "      <td>2.743311</td>\n",
              "      <td>22.362553</td>\n",
              "      <td>8.508364</td>\n",
              "      <td>74.031324</td>\n",
              "      <td>0.0</td>\n",
              "    </tr>\n",
              "    <tr>\n",
              "      <th>3</th>\n",
              "      <td>156.398438</td>\n",
              "      <td>48.865942</td>\n",
              "      <td>-0.215989</td>\n",
              "      <td>-0.171294</td>\n",
              "      <td>17.471572</td>\n",
              "      <td>NaN</td>\n",
              "      <td>2.958066</td>\n",
              "      <td>7.197842</td>\n",
              "      <td>0.0</td>\n",
              "    </tr>\n",
              "    <tr>\n",
              "      <th>4</th>\n",
              "      <td>84.804688</td>\n",
              "      <td>36.117659</td>\n",
              "      <td>0.825013</td>\n",
              "      <td>3.274125</td>\n",
              "      <td>2.790134</td>\n",
              "      <td>20.618009</td>\n",
              "      <td>8.405008</td>\n",
              "      <td>76.291128</td>\n",
              "      <td>0.0</td>\n",
              "    </tr>\n",
              "    <tr>\n",
              "      <th>...</th>\n",
              "      <td>...</td>\n",
              "      <td>...</td>\n",
              "      <td>...</td>\n",
              "      <td>...</td>\n",
              "      <td>...</td>\n",
              "      <td>...</td>\n",
              "      <td>...</td>\n",
              "      <td>...</td>\n",
              "      <td>...</td>\n",
              "    </tr>\n",
              "    <tr>\n",
              "      <th>12523</th>\n",
              "      <td>124.312500</td>\n",
              "      <td>53.179053</td>\n",
              "      <td>-0.012418</td>\n",
              "      <td>-0.556021</td>\n",
              "      <td>7.186455</td>\n",
              "      <td>29.308266</td>\n",
              "      <td>4.531382</td>\n",
              "      <td>21.725143</td>\n",
              "      <td>0.0</td>\n",
              "    </tr>\n",
              "    <tr>\n",
              "      <th>12524</th>\n",
              "      <td>115.617188</td>\n",
              "      <td>46.784600</td>\n",
              "      <td>0.218177</td>\n",
              "      <td>0.226757</td>\n",
              "      <td>6.140468</td>\n",
              "      <td>NaN</td>\n",
              "      <td>5.732201</td>\n",
              "      <td>34.357283</td>\n",
              "      <td>0.0</td>\n",
              "    </tr>\n",
              "    <tr>\n",
              "      <th>12525</th>\n",
              "      <td>116.031250</td>\n",
              "      <td>43.213846</td>\n",
              "      <td>0.663456</td>\n",
              "      <td>0.433088</td>\n",
              "      <td>0.785117</td>\n",
              "      <td>11.628149</td>\n",
              "      <td>17.055215</td>\n",
              "      <td>312.204325</td>\n",
              "      <td>0.0</td>\n",
              "    </tr>\n",
              "    <tr>\n",
              "      <th>12526</th>\n",
              "      <td>135.664062</td>\n",
              "      <td>49.933749</td>\n",
              "      <td>-0.089940</td>\n",
              "      <td>-0.226726</td>\n",
              "      <td>3.859532</td>\n",
              "      <td>21.501505</td>\n",
              "      <td>7.398395</td>\n",
              "      <td>62.334018</td>\n",
              "      <td>0.0</td>\n",
              "    </tr>\n",
              "    <tr>\n",
              "      <th>12527</th>\n",
              "      <td>120.726562</td>\n",
              "      <td>50.472256</td>\n",
              "      <td>0.346178</td>\n",
              "      <td>0.184797</td>\n",
              "      <td>0.769231</td>\n",
              "      <td>11.792603</td>\n",
              "      <td>17.662222</td>\n",
              "      <td>329.548016</td>\n",
              "      <td>0.0</td>\n",
              "    </tr>\n",
              "  </tbody>\n",
              "</table>\n",
              "<p>12528 rows × 9 columns</p>\n",
              "</div>\n",
              "      <button class=\"colab-df-convert\" onclick=\"convertToInteractive('df-fa2ce355-dabf-47bf-a649-9cb553f8e935')\"\n",
              "              title=\"Convert this dataframe to an interactive table.\"\n",
              "              style=\"display:none;\">\n",
              "        \n",
              "  <svg xmlns=\"http://www.w3.org/2000/svg\" height=\"24px\"viewBox=\"0 0 24 24\"\n",
              "       width=\"24px\">\n",
              "    <path d=\"M0 0h24v24H0V0z\" fill=\"none\"/>\n",
              "    <path d=\"M18.56 5.44l.94 2.06.94-2.06 2.06-.94-2.06-.94-.94-2.06-.94 2.06-2.06.94zm-11 1L8.5 8.5l.94-2.06 2.06-.94-2.06-.94L8.5 2.5l-.94 2.06-2.06.94zm10 10l.94 2.06.94-2.06 2.06-.94-2.06-.94-.94-2.06-.94 2.06-2.06.94z\"/><path d=\"M17.41 7.96l-1.37-1.37c-.4-.4-.92-.59-1.43-.59-.52 0-1.04.2-1.43.59L10.3 9.45l-7.72 7.72c-.78.78-.78 2.05 0 2.83L4 21.41c.39.39.9.59 1.41.59.51 0 1.02-.2 1.41-.59l7.78-7.78 2.81-2.81c.8-.78.8-2.07 0-2.86zM5.41 20L4 18.59l7.72-7.72 1.47 1.35L5.41 20z\"/>\n",
              "  </svg>\n",
              "      </button>\n",
              "      \n",
              "  <style>\n",
              "    .colab-df-container {\n",
              "      display:flex;\n",
              "      flex-wrap:wrap;\n",
              "      gap: 12px;\n",
              "    }\n",
              "\n",
              "    .colab-df-convert {\n",
              "      background-color: #E8F0FE;\n",
              "      border: none;\n",
              "      border-radius: 50%;\n",
              "      cursor: pointer;\n",
              "      display: none;\n",
              "      fill: #1967D2;\n",
              "      height: 32px;\n",
              "      padding: 0 0 0 0;\n",
              "      width: 32px;\n",
              "    }\n",
              "\n",
              "    .colab-df-convert:hover {\n",
              "      background-color: #E2EBFA;\n",
              "      box-shadow: 0px 1px 2px rgba(60, 64, 67, 0.3), 0px 1px 3px 1px rgba(60, 64, 67, 0.15);\n",
              "      fill: #174EA6;\n",
              "    }\n",
              "\n",
              "    [theme=dark] .colab-df-convert {\n",
              "      background-color: #3B4455;\n",
              "      fill: #D2E3FC;\n",
              "    }\n",
              "\n",
              "    [theme=dark] .colab-df-convert:hover {\n",
              "      background-color: #434B5C;\n",
              "      box-shadow: 0px 1px 3px 1px rgba(0, 0, 0, 0.15);\n",
              "      filter: drop-shadow(0px 1px 2px rgba(0, 0, 0, 0.3));\n",
              "      fill: #FFFFFF;\n",
              "    }\n",
              "  </style>\n",
              "\n",
              "      <script>\n",
              "        const buttonEl =\n",
              "          document.querySelector('#df-fa2ce355-dabf-47bf-a649-9cb553f8e935 button.colab-df-convert');\n",
              "        buttonEl.style.display =\n",
              "          google.colab.kernel.accessAllowed ? 'block' : 'none';\n",
              "\n",
              "        async function convertToInteractive(key) {\n",
              "          const element = document.querySelector('#df-fa2ce355-dabf-47bf-a649-9cb553f8e935');\n",
              "          const dataTable =\n",
              "            await google.colab.kernel.invokeFunction('convertToInteractive',\n",
              "                                                     [key], {});\n",
              "          if (!dataTable) return;\n",
              "\n",
              "          const docLinkHtml = 'Like what you see? Visit the ' +\n",
              "            '<a target=\"_blank\" href=https://colab.research.google.com/notebooks/data_table.ipynb>data table notebook</a>'\n",
              "            + ' to learn more about interactive tables.';\n",
              "          element.innerHTML = '';\n",
              "          dataTable['output_type'] = 'display_data';\n",
              "          await google.colab.output.renderOutput(dataTable, element);\n",
              "          const docLink = document.createElement('div');\n",
              "          docLink.innerHTML = docLinkHtml;\n",
              "          element.appendChild(docLink);\n",
              "        }\n",
              "      </script>\n",
              "    </div>\n",
              "  </div>\n",
              "  "
            ],
            "text/plain": [
              "        Mean of the integrated profile  ...  target_class\n",
              "0                           121.156250  ...           0.0\n",
              "1                            76.968750  ...           0.0\n",
              "2                           130.585938  ...           0.0\n",
              "3                           156.398438  ...           0.0\n",
              "4                            84.804688  ...           0.0\n",
              "...                                ...  ...           ...\n",
              "12523                       124.312500  ...           0.0\n",
              "12524                       115.617188  ...           0.0\n",
              "12525                       116.031250  ...           0.0\n",
              "12526                       135.664062  ...           0.0\n",
              "12527                       120.726562  ...           0.0\n",
              "\n",
              "[12528 rows x 9 columns]"
            ]
          },
          "metadata": {},
          "execution_count": 65
        }
      ]
    },
    {
      "cell_type": "markdown",
      "source": [
        "We can see that there are 9 variables in the dataset. 8 are continuous variables and 1 is discrete variable. The discrete variable is `target_class` variable. It is also the target variable.\n",
        "\n",
        "\n",
        "Now, I will view the column names to check for leading and trailing spaces."
      ],
      "metadata": {
        "id": "QRMd4r_R266I"
      }
    },
    {
      "cell_type": "code",
      "source": [
        "# view the column names of the dataframe\n",
        "df.columns"
      ],
      "metadata": {
        "trusted": true,
        "id": "FJjfuEPd266I",
        "colab": {
          "base_uri": "https://localhost:8080/"
        },
        "outputId": "90422bb7-a0c7-4d79-db26-9aa87794fd57"
      },
      "execution_count": 66,
      "outputs": [
        {
          "output_type": "execute_result",
          "data": {
            "text/plain": [
              "Index([' Mean of the integrated profile',\n",
              "       ' Standard deviation of the integrated profile',\n",
              "       ' Excess kurtosis of the integrated profile',\n",
              "       ' Skewness of the integrated profile', ' Mean of the DM-SNR curve',\n",
              "       ' Standard deviation of the DM-SNR curve',\n",
              "       ' Excess kurtosis of the DM-SNR curve', ' Skewness of the DM-SNR curve',\n",
              "       'target_class'],\n",
              "      dtype='object')"
            ]
          },
          "metadata": {},
          "execution_count": 66
        }
      ]
    },
    {
      "cell_type": "markdown",
      "source": [
        "We can see that there are leading spaces (spaces at the start of the string name) in the dataframe. So, I will remove these leading spaces."
      ],
      "metadata": {
        "id": "NwmiG6iz266J"
      }
    },
    {
      "cell_type": "code",
      "source": [
        "# remove leading spaces from column names\n",
        "\n",
        "df.columns = df.columns.str.strip()"
      ],
      "metadata": {
        "trusted": true,
        "id": "lchWxCVB266J"
      },
      "execution_count": 67,
      "outputs": []
    },
    {
      "cell_type": "markdown",
      "source": [
        "I have removed the leading spaces from the column names. Let's again view the column names to confirm the same."
      ],
      "metadata": {
        "id": "o8u_I1Dt266J"
      }
    },
    {
      "cell_type": "code",
      "source": [
        "# view column names again\n",
        "\n",
        "df.columns"
      ],
      "metadata": {
        "trusted": true,
        "id": "RlXtmKkt266J",
        "colab": {
          "base_uri": "https://localhost:8080/"
        },
        "outputId": "c74251fe-c73c-4a01-94ce-ea26c956d4c3"
      },
      "execution_count": 68,
      "outputs": [
        {
          "output_type": "execute_result",
          "data": {
            "text/plain": [
              "Index(['Mean of the integrated profile',\n",
              "       'Standard deviation of the integrated profile',\n",
              "       'Excess kurtosis of the integrated profile',\n",
              "       'Skewness of the integrated profile', 'Mean of the DM-SNR curve',\n",
              "       'Standard deviation of the DM-SNR curve',\n",
              "       'Excess kurtosis of the DM-SNR curve', 'Skewness of the DM-SNR curve',\n",
              "       'target_class'],\n",
              "      dtype='object')"
            ]
          },
          "metadata": {},
          "execution_count": 68
        }
      ]
    },
    {
      "cell_type": "markdown",
      "source": [
        "We can see that the leading spaces are removed from the column name. But the column names are very long. So, I will make them short by renaming them."
      ],
      "metadata": {
        "id": "q26-u9Uo266J"
      }
    },
    {
      "cell_type": "code",
      "source": [
        "# rename column names\n",
        "\n",
        "df.columns = ['IP Mean', 'IP Sd', 'IP Kurtosis', 'IP Skewness', \n",
        "              'DM-SNR Mean', 'DM-SNR Sd', 'DM-SNR Kurtosis', 'DM-SNR Skewness', 'target_class']"
      ],
      "metadata": {
        "trusted": true,
        "id": "b9h2Bn74266J"
      },
      "execution_count": 69,
      "outputs": []
    },
    {
      "cell_type": "code",
      "source": [
        "# view the renamed column names\n",
        "\n",
        "df.columns"
      ],
      "metadata": {
        "trusted": true,
        "id": "-2Pmu6ii266K",
        "colab": {
          "base_uri": "https://localhost:8080/"
        },
        "outputId": "42e077c9-1cf1-46ff-fc2b-0178382d58ed"
      },
      "execution_count": 70,
      "outputs": [
        {
          "output_type": "execute_result",
          "data": {
            "text/plain": [
              "Index(['IP Mean', 'IP Sd', 'IP Kurtosis', 'IP Skewness', 'DM-SNR Mean',\n",
              "       'DM-SNR Sd', 'DM-SNR Kurtosis', 'DM-SNR Skewness', 'target_class'],\n",
              "      dtype='object')"
            ]
          },
          "metadata": {},
          "execution_count": 70
        }
      ]
    },
    {
      "cell_type": "markdown",
      "source": [
        "We can see that the column names are shortened. IP stands for `integrated profile` and DM-SNR stands for `delta modulation and signal to noise ratio`. Now, it is much more easy to work with the columns."
      ],
      "metadata": {
        "id": "6Yg1fRlg266K"
      }
    },
    {
      "cell_type": "markdown",
      "source": [
        "Our target variable is the `target_class` column. So, I will check its distribution."
      ],
      "metadata": {
        "id": "7Ry3xcnC266K"
      }
    },
    {
      "cell_type": "code",
      "source": [
        "# check distribution of target_class column\n",
        "\n",
        "df.target_class.describe()"
      ],
      "metadata": {
        "trusted": true,
        "id": "5mphGLWZ266K",
        "colab": {
          "base_uri": "https://localhost:8080/"
        },
        "outputId": "f64ad10d-7cd5-4a0a-99ba-14f2f83fe6f6"
      },
      "execution_count": 71,
      "outputs": [
        {
          "output_type": "execute_result",
          "data": {
            "text/plain": [
              "count    12528.000000\n",
              "mean         0.092034\n",
              "std          0.289085\n",
              "min          0.000000\n",
              "25%          0.000000\n",
              "50%          0.000000\n",
              "75%          0.000000\n",
              "max          1.000000\n",
              "Name: target_class, dtype: float64"
            ]
          },
          "metadata": {},
          "execution_count": 71
        }
      ]
    },
    {
      "cell_type": "code",
      "source": [
        "# view the percentage distribution of target_class column\n",
        "\n",
        "df.target_class.value_counts()"
      ],
      "metadata": {
        "trusted": true,
        "id": "dyGPq93Q266K",
        "colab": {
          "base_uri": "https://localhost:8080/"
        },
        "outputId": "bacff687-de9c-4ed3-96c6-3cf9bc27f982"
      },
      "execution_count": 72,
      "outputs": [
        {
          "output_type": "execute_result",
          "data": {
            "text/plain": [
              "0.0    11375\n",
              "1.0     1153\n",
              "Name: target_class, dtype: int64"
            ]
          },
          "metadata": {},
          "execution_count": 72
        }
      ]
    },
    {
      "cell_type": "markdown",
      "source": [
        "We can see that percentage of observations of the class label `0` and `1` is 90.84% and 9.16%. So, this is a class imbalanced problem. I will deal with that in later section."
      ],
      "metadata": {
        "id": "vjpUdVyq266K"
      }
    },
    {
      "cell_type": "code",
      "source": [
        "# view summary of dataset\n",
        "\n",
        "df.describe()"
      ],
      "metadata": {
        "trusted": true,
        "id": "YB6Cghpo266L",
        "colab": {
          "base_uri": "https://localhost:8080/",
          "height": 300
        },
        "outputId": "0aa65a30-f337-475b-bf92-31593ecc2b72"
      },
      "execution_count": 73,
      "outputs": [
        {
          "output_type": "execute_result",
          "data": {
            "text/html": [
              "\n",
              "  <div id=\"df-32e2c81f-b3a9-46c4-ad56-e7cd30a7eaef\">\n",
              "    <div class=\"colab-df-container\">\n",
              "      <div>\n",
              "<style scoped>\n",
              "    .dataframe tbody tr th:only-of-type {\n",
              "        vertical-align: middle;\n",
              "    }\n",
              "\n",
              "    .dataframe tbody tr th {\n",
              "        vertical-align: top;\n",
              "    }\n",
              "\n",
              "    .dataframe thead th {\n",
              "        text-align: right;\n",
              "    }\n",
              "</style>\n",
              "<table border=\"1\" class=\"dataframe\">\n",
              "  <thead>\n",
              "    <tr style=\"text-align: right;\">\n",
              "      <th></th>\n",
              "      <th>IP Mean</th>\n",
              "      <th>IP Sd</th>\n",
              "      <th>IP Kurtosis</th>\n",
              "      <th>IP Skewness</th>\n",
              "      <th>DM-SNR Mean</th>\n",
              "      <th>DM-SNR Sd</th>\n",
              "      <th>DM-SNR Kurtosis</th>\n",
              "      <th>DM-SNR Skewness</th>\n",
              "      <th>target_class</th>\n",
              "    </tr>\n",
              "  </thead>\n",
              "  <tbody>\n",
              "    <tr>\n",
              "      <th>count</th>\n",
              "      <td>12528.000000</td>\n",
              "      <td>12528.000000</td>\n",
              "      <td>10793.000000</td>\n",
              "      <td>12528.000000</td>\n",
              "      <td>12528.000000</td>\n",
              "      <td>11350.000000</td>\n",
              "      <td>12528.000000</td>\n",
              "      <td>11903.000000</td>\n",
              "      <td>12528.000000</td>\n",
              "    </tr>\n",
              "    <tr>\n",
              "      <th>mean</th>\n",
              "      <td>111.041841</td>\n",
              "      <td>46.521437</td>\n",
              "      <td>0.478548</td>\n",
              "      <td>1.778431</td>\n",
              "      <td>12.674758</td>\n",
              "      <td>26.351318</td>\n",
              "      <td>8.333489</td>\n",
              "      <td>105.525779</td>\n",
              "      <td>0.092034</td>\n",
              "    </tr>\n",
              "    <tr>\n",
              "      <th>std</th>\n",
              "      <td>25.672828</td>\n",
              "      <td>6.801077</td>\n",
              "      <td>1.064708</td>\n",
              "      <td>6.208450</td>\n",
              "      <td>29.613230</td>\n",
              "      <td>19.610842</td>\n",
              "      <td>4.535783</td>\n",
              "      <td>107.399585</td>\n",
              "      <td>0.289085</td>\n",
              "    </tr>\n",
              "    <tr>\n",
              "      <th>min</th>\n",
              "      <td>5.812500</td>\n",
              "      <td>24.772042</td>\n",
              "      <td>-1.738021</td>\n",
              "      <td>-1.791886</td>\n",
              "      <td>0.213211</td>\n",
              "      <td>7.370432</td>\n",
              "      <td>-3.139270</td>\n",
              "      <td>-1.976976</td>\n",
              "      <td>0.000000</td>\n",
              "    </tr>\n",
              "    <tr>\n",
              "      <th>25%</th>\n",
              "      <td>100.871094</td>\n",
              "      <td>42.362222</td>\n",
              "      <td>0.024652</td>\n",
              "      <td>-0.188142</td>\n",
              "      <td>1.910535</td>\n",
              "      <td>14.404353</td>\n",
              "      <td>5.803063</td>\n",
              "      <td>35.199899</td>\n",
              "      <td>0.000000</td>\n",
              "    </tr>\n",
              "    <tr>\n",
              "      <th>50%</th>\n",
              "      <td>115.183594</td>\n",
              "      <td>46.931022</td>\n",
              "      <td>0.223678</td>\n",
              "      <td>0.203317</td>\n",
              "      <td>2.792642</td>\n",
              "      <td>18.412402</td>\n",
              "      <td>8.451097</td>\n",
              "      <td>83.126301</td>\n",
              "      <td>0.000000</td>\n",
              "    </tr>\n",
              "    <tr>\n",
              "      <th>75%</th>\n",
              "      <td>127.109375</td>\n",
              "      <td>50.979103</td>\n",
              "      <td>0.473125</td>\n",
              "      <td>0.932374</td>\n",
              "      <td>5.413253</td>\n",
              "      <td>28.337418</td>\n",
              "      <td>10.727927</td>\n",
              "      <td>139.997850</td>\n",
              "      <td>0.000000</td>\n",
              "    </tr>\n",
              "    <tr>\n",
              "      <th>max</th>\n",
              "      <td>189.734375</td>\n",
              "      <td>91.808628</td>\n",
              "      <td>8.069522</td>\n",
              "      <td>68.101622</td>\n",
              "      <td>222.421405</td>\n",
              "      <td>110.642211</td>\n",
              "      <td>34.539844</td>\n",
              "      <td>1191.000837</td>\n",
              "      <td>1.000000</td>\n",
              "    </tr>\n",
              "  </tbody>\n",
              "</table>\n",
              "</div>\n",
              "      <button class=\"colab-df-convert\" onclick=\"convertToInteractive('df-32e2c81f-b3a9-46c4-ad56-e7cd30a7eaef')\"\n",
              "              title=\"Convert this dataframe to an interactive table.\"\n",
              "              style=\"display:none;\">\n",
              "        \n",
              "  <svg xmlns=\"http://www.w3.org/2000/svg\" height=\"24px\"viewBox=\"0 0 24 24\"\n",
              "       width=\"24px\">\n",
              "    <path d=\"M0 0h24v24H0V0z\" fill=\"none\"/>\n",
              "    <path d=\"M18.56 5.44l.94 2.06.94-2.06 2.06-.94-2.06-.94-.94-2.06-.94 2.06-2.06.94zm-11 1L8.5 8.5l.94-2.06 2.06-.94-2.06-.94L8.5 2.5l-.94 2.06-2.06.94zm10 10l.94 2.06.94-2.06 2.06-.94-2.06-.94-.94-2.06-.94 2.06-2.06.94z\"/><path d=\"M17.41 7.96l-1.37-1.37c-.4-.4-.92-.59-1.43-.59-.52 0-1.04.2-1.43.59L10.3 9.45l-7.72 7.72c-.78.78-.78 2.05 0 2.83L4 21.41c.39.39.9.59 1.41.59.51 0 1.02-.2 1.41-.59l7.78-7.78 2.81-2.81c.8-.78.8-2.07 0-2.86zM5.41 20L4 18.59l7.72-7.72 1.47 1.35L5.41 20z\"/>\n",
              "  </svg>\n",
              "      </button>\n",
              "      \n",
              "  <style>\n",
              "    .colab-df-container {\n",
              "      display:flex;\n",
              "      flex-wrap:wrap;\n",
              "      gap: 12px;\n",
              "    }\n",
              "\n",
              "    .colab-df-convert {\n",
              "      background-color: #E8F0FE;\n",
              "      border: none;\n",
              "      border-radius: 50%;\n",
              "      cursor: pointer;\n",
              "      display: none;\n",
              "      fill: #1967D2;\n",
              "      height: 32px;\n",
              "      padding: 0 0 0 0;\n",
              "      width: 32px;\n",
              "    }\n",
              "\n",
              "    .colab-df-convert:hover {\n",
              "      background-color: #E2EBFA;\n",
              "      box-shadow: 0px 1px 2px rgba(60, 64, 67, 0.3), 0px 1px 3px 1px rgba(60, 64, 67, 0.15);\n",
              "      fill: #174EA6;\n",
              "    }\n",
              "\n",
              "    [theme=dark] .colab-df-convert {\n",
              "      background-color: #3B4455;\n",
              "      fill: #D2E3FC;\n",
              "    }\n",
              "\n",
              "    [theme=dark] .colab-df-convert:hover {\n",
              "      background-color: #434B5C;\n",
              "      box-shadow: 0px 1px 3px 1px rgba(0, 0, 0, 0.15);\n",
              "      filter: drop-shadow(0px 1px 2px rgba(0, 0, 0, 0.3));\n",
              "      fill: #FFFFFF;\n",
              "    }\n",
              "  </style>\n",
              "\n",
              "      <script>\n",
              "        const buttonEl =\n",
              "          document.querySelector('#df-32e2c81f-b3a9-46c4-ad56-e7cd30a7eaef button.colab-df-convert');\n",
              "        buttonEl.style.display =\n",
              "          google.colab.kernel.accessAllowed ? 'block' : 'none';\n",
              "\n",
              "        async function convertToInteractive(key) {\n",
              "          const element = document.querySelector('#df-32e2c81f-b3a9-46c4-ad56-e7cd30a7eaef');\n",
              "          const dataTable =\n",
              "            await google.colab.kernel.invokeFunction('convertToInteractive',\n",
              "                                                     [key], {});\n",
              "          if (!dataTable) return;\n",
              "\n",
              "          const docLinkHtml = 'Like what you see? Visit the ' +\n",
              "            '<a target=\"_blank\" href=https://colab.research.google.com/notebooks/data_table.ipynb>data table notebook</a>'\n",
              "            + ' to learn more about interactive tables.';\n",
              "          element.innerHTML = '';\n",
              "          dataTable['output_type'] = 'display_data';\n",
              "          await google.colab.output.renderOutput(dataTable, element);\n",
              "          const docLink = document.createElement('div');\n",
              "          docLink.innerHTML = docLinkHtml;\n",
              "          element.appendChild(docLink);\n",
              "        }\n",
              "      </script>\n",
              "    </div>\n",
              "  </div>\n",
              "  "
            ],
            "text/plain": [
              "            IP Mean         IP Sd  ...  DM-SNR Skewness  target_class\n",
              "count  12528.000000  12528.000000  ...     11903.000000  12528.000000\n",
              "mean     111.041841     46.521437  ...       105.525779      0.092034\n",
              "std       25.672828      6.801077  ...       107.399585      0.289085\n",
              "min        5.812500     24.772042  ...        -1.976976      0.000000\n",
              "25%      100.871094     42.362222  ...        35.199899      0.000000\n",
              "50%      115.183594     46.931022  ...        83.126301      0.000000\n",
              "75%      127.109375     50.979103  ...       139.997850      0.000000\n",
              "max      189.734375     91.808628  ...      1191.000837      1.000000\n",
              "\n",
              "[8 rows x 9 columns]"
            ]
          },
          "metadata": {},
          "execution_count": 73
        }
      ]
    },
    {
      "cell_type": "markdown",
      "source": [
        "We can see that there are no missing values in the dataset and all the variables are numerical variables."
      ],
      "metadata": {
        "id": "ZLSes-ge266L"
      }
    },
    {
      "cell_type": "markdown",
      "source": [
        "### Explore missing values in variables"
      ],
      "metadata": {
        "id": "yspvBQGh266L"
      }
    },
    {
      "cell_type": "code",
      "source": [
        "# check for missing values in variables\n",
        "df =df.dropna()\n"
      ],
      "metadata": {
        "trusted": true,
        "id": "BlJNhySy266L"
      },
      "execution_count": 155,
      "outputs": []
    },
    {
      "cell_type": "markdown",
      "source": [
        "We can see that there are no missing values in the dataset."
      ],
      "metadata": {
        "id": "EL_7bd54266L"
      }
    },
    {
      "cell_type": "markdown",
      "source": [
        "### Summary of numerical variables\n",
        "\n",
        "\n",
        "- There are 9 numerical variables in the dataset.\n",
        "\n",
        "\n",
        "- 8 are continuous variables and 1 is discrete variable. \n",
        "\n",
        "\n",
        "- The discrete variable is `target_class` variable. It is also the target variable.\n",
        "\n",
        "\n",
        "- There are no missing values in the dataset."
      ],
      "metadata": {
        "id": "OlbBziOa266L"
      }
    },
    {
      "cell_type": "markdown",
      "source": [
        "### Outliers in numerical variables"
      ],
      "metadata": {
        "id": "soepeGuU266L"
      }
    },
    {
      "cell_type": "code",
      "source": [
        "# view summary statistics in numerical variables\n",
        "\n",
        "round(df.describe(),2)"
      ],
      "metadata": {
        "trusted": true,
        "id": "2Pol93Pf266L",
        "colab": {
          "base_uri": "https://localhost:8080/",
          "height": 300
        },
        "outputId": "9d357942-d341-43e0-853e-2ee066898238"
      },
      "execution_count": 156,
      "outputs": [
        {
          "output_type": "execute_result",
          "data": {
            "text/html": [
              "\n",
              "  <div id=\"df-b47585c6-7214-4982-8866-dfff0200f6de\">\n",
              "    <div class=\"colab-df-container\">\n",
              "      <div>\n",
              "<style scoped>\n",
              "    .dataframe tbody tr th:only-of-type {\n",
              "        vertical-align: middle;\n",
              "    }\n",
              "\n",
              "    .dataframe tbody tr th {\n",
              "        vertical-align: top;\n",
              "    }\n",
              "\n",
              "    .dataframe thead th {\n",
              "        text-align: right;\n",
              "    }\n",
              "</style>\n",
              "<table border=\"1\" class=\"dataframe\">\n",
              "  <thead>\n",
              "    <tr style=\"text-align: right;\">\n",
              "      <th></th>\n",
              "      <th>IP Mean</th>\n",
              "      <th>IP Sd</th>\n",
              "      <th>IP Kurtosis</th>\n",
              "      <th>IP Skewness</th>\n",
              "      <th>DM-SNR Mean</th>\n",
              "      <th>DM-SNR Sd</th>\n",
              "      <th>DM-SNR Kurtosis</th>\n",
              "      <th>DM-SNR Skewness</th>\n",
              "      <th>target_class</th>\n",
              "    </tr>\n",
              "  </thead>\n",
              "  <tbody>\n",
              "    <tr>\n",
              "      <th>count</th>\n",
              "      <td>9273.00</td>\n",
              "      <td>9273.00</td>\n",
              "      <td>9273.00</td>\n",
              "      <td>9273.00</td>\n",
              "      <td>9273.00</td>\n",
              "      <td>9273.00</td>\n",
              "      <td>9273.00</td>\n",
              "      <td>9273.00</td>\n",
              "      <td>9273.00</td>\n",
              "    </tr>\n",
              "    <tr>\n",
              "      <th>mean</th>\n",
              "      <td>111.13</td>\n",
              "      <td>46.51</td>\n",
              "      <td>0.48</td>\n",
              "      <td>1.79</td>\n",
              "      <td>12.74</td>\n",
              "      <td>26.33</td>\n",
              "      <td>8.33</td>\n",
              "      <td>105.78</td>\n",
              "      <td>0.09</td>\n",
              "    </tr>\n",
              "    <tr>\n",
              "      <th>std</th>\n",
              "      <td>25.69</td>\n",
              "      <td>6.78</td>\n",
              "      <td>1.07</td>\n",
              "      <td>6.29</td>\n",
              "      <td>29.77</td>\n",
              "      <td>19.54</td>\n",
              "      <td>4.55</td>\n",
              "      <td>108.17</td>\n",
              "      <td>0.29</td>\n",
              "    </tr>\n",
              "    <tr>\n",
              "      <th>min</th>\n",
              "      <td>6.19</td>\n",
              "      <td>24.77</td>\n",
              "      <td>-1.74</td>\n",
              "      <td>-1.79</td>\n",
              "      <td>0.21</td>\n",
              "      <td>7.37</td>\n",
              "      <td>-2.64</td>\n",
              "      <td>-1.98</td>\n",
              "      <td>0.00</td>\n",
              "    </tr>\n",
              "    <tr>\n",
              "      <th>25%</th>\n",
              "      <td>100.98</td>\n",
              "      <td>42.40</td>\n",
              "      <td>0.02</td>\n",
              "      <td>-0.19</td>\n",
              "      <td>1.91</td>\n",
              "      <td>14.38</td>\n",
              "      <td>5.79</td>\n",
              "      <td>34.92</td>\n",
              "      <td>0.00</td>\n",
              "    </tr>\n",
              "    <tr>\n",
              "      <th>50%</th>\n",
              "      <td>115.23</td>\n",
              "      <td>46.90</td>\n",
              "      <td>0.22</td>\n",
              "      <td>0.20</td>\n",
              "      <td>2.80</td>\n",
              "      <td>18.44</td>\n",
              "      <td>8.43</td>\n",
              "      <td>83.15</td>\n",
              "      <td>0.00</td>\n",
              "    </tr>\n",
              "    <tr>\n",
              "      <th>75%</th>\n",
              "      <td>127.33</td>\n",
              "      <td>51.00</td>\n",
              "      <td>0.47</td>\n",
              "      <td>0.93</td>\n",
              "      <td>5.46</td>\n",
              "      <td>28.39</td>\n",
              "      <td>10.72</td>\n",
              "      <td>139.77</td>\n",
              "      <td>0.00</td>\n",
              "    </tr>\n",
              "    <tr>\n",
              "      <th>max</th>\n",
              "      <td>189.73</td>\n",
              "      <td>91.81</td>\n",
              "      <td>8.07</td>\n",
              "      <td>68.10</td>\n",
              "      <td>211.95</td>\n",
              "      <td>110.64</td>\n",
              "      <td>34.54</td>\n",
              "      <td>1191.00</td>\n",
              "      <td>1.00</td>\n",
              "    </tr>\n",
              "  </tbody>\n",
              "</table>\n",
              "</div>\n",
              "      <button class=\"colab-df-convert\" onclick=\"convertToInteractive('df-b47585c6-7214-4982-8866-dfff0200f6de')\"\n",
              "              title=\"Convert this dataframe to an interactive table.\"\n",
              "              style=\"display:none;\">\n",
              "        \n",
              "  <svg xmlns=\"http://www.w3.org/2000/svg\" height=\"24px\"viewBox=\"0 0 24 24\"\n",
              "       width=\"24px\">\n",
              "    <path d=\"M0 0h24v24H0V0z\" fill=\"none\"/>\n",
              "    <path d=\"M18.56 5.44l.94 2.06.94-2.06 2.06-.94-2.06-.94-.94-2.06-.94 2.06-2.06.94zm-11 1L8.5 8.5l.94-2.06 2.06-.94-2.06-.94L8.5 2.5l-.94 2.06-2.06.94zm10 10l.94 2.06.94-2.06 2.06-.94-2.06-.94-.94-2.06-.94 2.06-2.06.94z\"/><path d=\"M17.41 7.96l-1.37-1.37c-.4-.4-.92-.59-1.43-.59-.52 0-1.04.2-1.43.59L10.3 9.45l-7.72 7.72c-.78.78-.78 2.05 0 2.83L4 21.41c.39.39.9.59 1.41.59.51 0 1.02-.2 1.41-.59l7.78-7.78 2.81-2.81c.8-.78.8-2.07 0-2.86zM5.41 20L4 18.59l7.72-7.72 1.47 1.35L5.41 20z\"/>\n",
              "  </svg>\n",
              "      </button>\n",
              "      \n",
              "  <style>\n",
              "    .colab-df-container {\n",
              "      display:flex;\n",
              "      flex-wrap:wrap;\n",
              "      gap: 12px;\n",
              "    }\n",
              "\n",
              "    .colab-df-convert {\n",
              "      background-color: #E8F0FE;\n",
              "      border: none;\n",
              "      border-radius: 50%;\n",
              "      cursor: pointer;\n",
              "      display: none;\n",
              "      fill: #1967D2;\n",
              "      height: 32px;\n",
              "      padding: 0 0 0 0;\n",
              "      width: 32px;\n",
              "    }\n",
              "\n",
              "    .colab-df-convert:hover {\n",
              "      background-color: #E2EBFA;\n",
              "      box-shadow: 0px 1px 2px rgba(60, 64, 67, 0.3), 0px 1px 3px 1px rgba(60, 64, 67, 0.15);\n",
              "      fill: #174EA6;\n",
              "    }\n",
              "\n",
              "    [theme=dark] .colab-df-convert {\n",
              "      background-color: #3B4455;\n",
              "      fill: #D2E3FC;\n",
              "    }\n",
              "\n",
              "    [theme=dark] .colab-df-convert:hover {\n",
              "      background-color: #434B5C;\n",
              "      box-shadow: 0px 1px 3px 1px rgba(0, 0, 0, 0.15);\n",
              "      filter: drop-shadow(0px 1px 2px rgba(0, 0, 0, 0.3));\n",
              "      fill: #FFFFFF;\n",
              "    }\n",
              "  </style>\n",
              "\n",
              "      <script>\n",
              "        const buttonEl =\n",
              "          document.querySelector('#df-b47585c6-7214-4982-8866-dfff0200f6de button.colab-df-convert');\n",
              "        buttonEl.style.display =\n",
              "          google.colab.kernel.accessAllowed ? 'block' : 'none';\n",
              "\n",
              "        async function convertToInteractive(key) {\n",
              "          const element = document.querySelector('#df-b47585c6-7214-4982-8866-dfff0200f6de');\n",
              "          const dataTable =\n",
              "            await google.colab.kernel.invokeFunction('convertToInteractive',\n",
              "                                                     [key], {});\n",
              "          if (!dataTable) return;\n",
              "\n",
              "          const docLinkHtml = 'Like what you see? Visit the ' +\n",
              "            '<a target=\"_blank\" href=https://colab.research.google.com/notebooks/data_table.ipynb>data table notebook</a>'\n",
              "            + ' to learn more about interactive tables.';\n",
              "          element.innerHTML = '';\n",
              "          dataTable['output_type'] = 'display_data';\n",
              "          await google.colab.output.renderOutput(dataTable, element);\n",
              "          const docLink = document.createElement('div');\n",
              "          docLink.innerHTML = docLinkHtml;\n",
              "          element.appendChild(docLink);\n",
              "        }\n",
              "      </script>\n",
              "    </div>\n",
              "  </div>\n",
              "  "
            ],
            "text/plain": [
              "       IP Mean    IP Sd  ...  DM-SNR Skewness  target_class\n",
              "count  9273.00  9273.00  ...          9273.00       9273.00\n",
              "mean    111.13    46.51  ...           105.78          0.09\n",
              "std      25.69     6.78  ...           108.17          0.29\n",
              "min       6.19    24.77  ...            -1.98          0.00\n",
              "25%     100.98    42.40  ...            34.92          0.00\n",
              "50%     115.23    46.90  ...            83.15          0.00\n",
              "75%     127.33    51.00  ...           139.77          0.00\n",
              "max     189.73    91.81  ...          1191.00          1.00\n",
              "\n",
              "[8 rows x 9 columns]"
            ]
          },
          "metadata": {},
          "execution_count": 156
        }
      ]
    },
    {
      "cell_type": "markdown",
      "source": [
        "On closer inspection, we can suspect that all the continuous variables may contain outliers.\n",
        "\n",
        "\n",
        "I will draw boxplots to visualise outliers in the above variables. "
      ],
      "metadata": {
        "id": "kncM-CZm266M"
      }
    },
    {
      "cell_type": "code",
      "source": [
        "# draw boxplots to visualize outliers\n",
        "\n",
        "plt.figure(figsize=(24,20))\n",
        "\n",
        "\n",
        "plt.subplot(4, 2, 1)\n",
        "fig = df.boxplot(column='IP Mean')\n",
        "fig.set_title('')\n",
        "fig.set_ylabel('IP Mean')\n",
        "\n",
        "\n",
        "plt.subplot(4, 2, 2)\n",
        "fig = df.boxplot(column='IP Sd')\n",
        "fig.set_title('')\n",
        "fig.set_ylabel('IP Sd')\n",
        "\n",
        "\n",
        "plt.subplot(4, 2, 3)\n",
        "fig = df.boxplot(column='IP Kurtosis')\n",
        "fig.set_title('')\n",
        "fig.set_ylabel('IP Kurtosis')\n",
        "\n",
        "\n",
        "plt.subplot(4, 2, 4)\n",
        "fig = df.boxplot(column='IP Skewness')\n",
        "fig.set_title('')\n",
        "fig.set_ylabel('IP Skewness')\n",
        "\n",
        "\n",
        "plt.subplot(4, 2, 5)\n",
        "fig = df.boxplot(column='DM-SNR Mean')\n",
        "fig.set_title('')\n",
        "fig.set_ylabel('DM-SNR Mean')\n",
        "\n",
        "\n",
        "plt.subplot(4, 2, 6)\n",
        "fig = df.boxplot(column='DM-SNR Sd')\n",
        "fig.set_title('')\n",
        "fig.set_ylabel('DM-SNR Sd')\n",
        "\n",
        "\n",
        "plt.subplot(4, 2, 7)\n",
        "fig = df.boxplot(column='DM-SNR Kurtosis')\n",
        "fig.set_title('')\n",
        "fig.set_ylabel('DM-SNR Kurtosis')\n",
        "\n",
        "\n",
        "plt.subplot(4, 2, 8)\n",
        "fig = df.boxplot(column='DM-SNR Skewness')\n",
        "fig.set_title('')\n",
        "fig.set_ylabel('DM-SNR Skewness')"
      ],
      "metadata": {
        "trusted": true,
        "id": "HZzlz5ai266M",
        "colab": {
          "base_uri": "https://localhost:8080/",
          "height": 1000
        },
        "outputId": "70e2e05e-8760-4a86-fe13-b16c2551172b"
      },
      "execution_count": 157,
      "outputs": [
        {
          "output_type": "execute_result",
          "data": {
            "text/plain": [
              "Text(0, 0.5, 'DM-SNR Skewness')"
            ]
          },
          "metadata": {},
          "execution_count": 157
        },
        {
          "output_type": "display_data",
          "data": {
            "image/png": "[encoded data removed]",
            "text/plain": [
              "<Figure size 1728x1440 with 8 Axes>"
            ]
          },
          "metadata": {
            "needs_background": "light"
          }
        }
      ]
    },
    {
      "cell_type": "markdown",
      "source": [
        "The above boxplots confirm that there are lot of outliers in these variables."
      ],
      "metadata": {
        "id": "GkC_pIVA266M"
      }
    },
    {
      "cell_type": "markdown",
      "source": [
        "### Handle outliers with SVMs\n",
        "\n",
        "\n",
        "There are 2 variants of SVMs. They are `hard-margin variant of SVM` and `soft-margin variant of SVM`.\n",
        "\n",
        "\n",
        "The `hard-margin variant of SVM` does not deal with outliers. In this case, we want to find the hyperplane with maximum margin such that every training point is correctly classified with margin at least 1. This technique does not handle outliers well.\n",
        "\n",
        "\n",
        "Another version of SVM is called `soft-margin variant of SVM`. In this case, we can have a few points incorrectly classified or \n",
        "classified with a margin less than 1. But for every such point, we have to pay a penalty in the form of `C` parameter, which controls the outliers. `Low C` implies we are allowing more outliers and `high C` implies less outliers.\n",
        "\n",
        "\n",
        "The message is that since the dataset contains outliers, so the value of C should be high while training the model."
      ],
      "metadata": {
        "id": "THOfznwC266M"
      }
    },
    {
      "cell_type": "markdown",
      "source": [
        "### Check the distribution of variables\n",
        "\n",
        "\n",
        "Now, I will plot the histograms to check distributions to find out if they are normal or skewed. "
      ],
      "metadata": {
        "id": "j0Y2YzD3266M"
      }
    },
    {
      "cell_type": "code",
      "source": [
        "# plot histogram to check distribution\n",
        "\n",
        "\n",
        "plt.figure(figsize=(24,20))\n",
        "\n",
        "\n",
        "plt.subplot(4, 2, 1)\n",
        "fig = df['IP Mean'].hist(bins=20)\n",
        "fig.set_xlabel('IP Mean')\n",
        "fig.set_ylabel('Number of pulsar stars')\n",
        "\n",
        "\n",
        "plt.subplot(4, 2, 2)\n",
        "fig = df['IP Sd'].hist(bins=20)\n",
        "fig.set_xlabel('IP Sd')\n",
        "fig.set_ylabel('Number of pulsar stars')\n",
        "\n",
        "\n",
        "plt.subplot(4, 2, 3)\n",
        "fig = df['IP Kurtosis'].hist(bins=20)\n",
        "fig.set_xlabel('IP Kurtosis')\n",
        "fig.set_ylabel('Number of pulsar stars')\n",
        "\n",
        "\n",
        "\n",
        "plt.subplot(4, 2, 4)\n",
        "fig = df['IP Skewness'].hist(bins=20)\n",
        "fig.set_xlabel('IP Skewness')\n",
        "fig.set_ylabel('Number of pulsar stars')\n",
        "\n",
        "\n",
        "\n",
        "plt.subplot(4, 2, 5)\n",
        "fig = df['DM-SNR Mean'].hist(bins=20)\n",
        "fig.set_xlabel('DM-SNR Mean')\n",
        "fig.set_ylabel('Number of pulsar stars')\n",
        "\n",
        "\n",
        "\n",
        "plt.subplot(4, 2, 6)\n",
        "fig = df['DM-SNR Sd'].hist(bins=20)\n",
        "fig.set_xlabel('DM-SNR Sd')\n",
        "fig.set_ylabel('Number of pulsar stars')\n",
        "\n",
        "\n",
        "\n",
        "plt.subplot(4, 2, 7)\n",
        "fig = df['DM-SNR Kurtosis'].hist(bins=20)\n",
        "fig.set_xlabel('DM-SNR Kurtosis')\n",
        "fig.set_ylabel('Number of pulsar stars')\n",
        "\n",
        "\n",
        "plt.subplot(4, 2, 8)\n",
        "fig = df['DM-SNR Skewness'].hist(bins=20)\n",
        "fig.set_xlabel('DM-SNR Skewness')\n",
        "fig.set_ylabel('Number of pulsar stars')\n"
      ],
      "metadata": {
        "trusted": true,
        "id": "7ZJ-AsaR266M",
        "colab": {
          "base_uri": "https://localhost:8080/",
          "height": 1000
        },
        "outputId": "5db4f235-3077-45c4-d4f8-3fe41b802488"
      },
      "execution_count": 158,
      "outputs": [
        {
          "output_type": "execute_result",
          "data": {
            "text/plain": [
              "Text(0, 0.5, 'Number of pulsar stars')"
            ]
          },
          "metadata": {},
          "execution_count": 158
        },
        {
          "output_type": "display_data",
          "data": {
            "image/png": "[encoded data removed]",
            "text/plain": [
              "<Figure size 1728x1440 with 8 Axes>"
            ]
          },
          "metadata": {
            "needs_background": "light"
          }
        }
      ]
    },
    {
      "cell_type": "markdown",
      "source": [
        "We can see that all the 8 continuous variables are skewed. "
      ],
      "metadata": {
        "id": "03ADc0HO266N"
      }
    },
    {
      "cell_type": "markdown",
      "source": [
        "# **9. Declare feature vector and target variable** <a class=\"anchor\" id=\"9\"></a>\n",
        "\n"
      ],
      "metadata": {
        "id": "hNup477y266N"
      }
    },
    {
      "cell_type": "code",
      "source": [
        "X = df[df.columns[:-1]]\n",
        "\n",
        "y = df[df.columns[-1]]"
      ],
      "metadata": {
        "trusted": true,
        "id": "MGpzWFar266N"
      },
      "execution_count": 169,
      "outputs": []
    },
    {
      "cell_type": "markdown",
      "source": [
        "# **10. Split data into separate training and test set** <a class=\"anchor\" id=\"10\"></a>\n",
        "\n"
      ],
      "metadata": {
        "id": "lEeAm0oh266N"
      }
    },
    {
      "cell_type": "code",
      "source": [
        "# split X and y into training and testing sets\n",
        "\n",
        "from sklearn.model_selection import train_test_split\n",
        "\n",
        "X_train, X_test, y_train, y_test = train_test_split(X,y, test_size = 0.2, random_state= 7)\n"
      ],
      "metadata": {
        "trusted": true,
        "id": "glBmupCi266N"
      },
      "execution_count": 181,
      "outputs": []
    },
    {
      "cell_type": "code",
      "source": [
        "# check the shape of X_train and X_test\n",
        "\n",
        "X_train.shape, X_test.shape"
      ],
      "metadata": {
        "trusted": true,
        "id": "JAYMd5uR266O",
        "colab": {
          "base_uri": "https://localhost:8080/"
        },
        "outputId": "ae3ddb6f-3120-4f24-fd5e-d36e4071b820"
      },
      "execution_count": 182,
      "outputs": [
        {
          "output_type": "execute_result",
          "data": {
            "text/plain": [
              "((7418, 8), (1855, 8))"
            ]
          },
          "metadata": {},
          "execution_count": 182
        }
      ]
    },
    {
      "cell_type": "markdown",
      "source": [
        "# **11. Feature Scaling** <a class=\"anchor\" id=\"11\"></a>\n",
        "\n"
      ],
      "metadata": {
        "id": "vydWJGx4266O"
      }
    },
    {
      "cell_type": "code",
      "source": [
        "cols = X_train.columns"
      ],
      "metadata": {
        "trusted": true,
        "id": "IfW84ySS266O"
      },
      "execution_count": 183,
      "outputs": []
    },
    {
      "cell_type": "code",
      "source": [
        "from sklearn.preprocessing import StandardScaler\n",
        "\n",
        "scaler = StandardScaler()\n",
        "\n",
        "X_train = scaler.fit_transform(X_train)\n",
        "\n",
        "X_test = scaler.transform(X_test)\n"
      ],
      "metadata": {
        "trusted": true,
        "id": "lZRNHAto266P"
      },
      "execution_count": 184,
      "outputs": []
    },
    {
      "cell_type": "code",
      "source": [
        "X_train = pd.DataFrame(X_train, columns=[cols]).astype('float64')"
      ],
      "metadata": {
        "trusted": true,
        "id": "w3Gm_fJL266P"
      },
      "execution_count": 185,
      "outputs": []
    },
    {
      "cell_type": "code",
      "source": [
        "X_test = pd.DataFrame(X_test, columns=[cols]).astype('float64')"
      ],
      "metadata": {
        "trusted": true,
        "id": "x7x2BPTT266P"
      },
      "execution_count": 186,
      "outputs": []
    },
    {
      "cell_type": "code",
      "source": [
        "X_train.describe()"
      ],
      "metadata": {
        "trusted": true,
        "id": "981b4Ghh266P",
        "colab": {
          "base_uri": "https://localhost:8080/",
          "height": 300
        },
        "outputId": "f902d062-6028-4511-ff07-d29585fd9955"
      },
      "execution_count": 187,
      "outputs": [
        {
          "output_type": "execute_result",
          "data": {
            "text/html": [
              "\n",
              "  <div id=\"df-05245d2d-8da4-4c62-8839-5773b49de9fe\">\n",
              "    <div class=\"colab-df-container\">\n",
              "      <div>\n",
              "<style scoped>\n",
              "    .dataframe tbody tr th:only-of-type {\n",
              "        vertical-align: middle;\n",
              "    }\n",
              "\n",
              "    .dataframe tbody tr th {\n",
              "        vertical-align: top;\n",
              "    }\n",
              "\n",
              "    .dataframe thead tr th {\n",
              "        text-align: left;\n",
              "    }\n",
              "</style>\n",
              "<table border=\"1\" class=\"dataframe\">\n",
              "  <thead>\n",
              "    <tr>\n",
              "      <th></th>\n",
              "      <th>IP Mean</th>\n",
              "      <th>IP Sd</th>\n",
              "      <th>IP Kurtosis</th>\n",
              "      <th>IP Skewness</th>\n",
              "      <th>DM-SNR Mean</th>\n",
              "      <th>DM-SNR Sd</th>\n",
              "      <th>DM-SNR Kurtosis</th>\n",
              "      <th>DM-SNR Skewness</th>\n",
              "    </tr>\n",
              "  </thead>\n",
              "  <tbody>\n",
              "    <tr>\n",
              "      <th>count</th>\n",
              "      <td>7.418000e+03</td>\n",
              "      <td>7.418000e+03</td>\n",
              "      <td>7.418000e+03</td>\n",
              "      <td>7.418000e+03</td>\n",
              "      <td>7.418000e+03</td>\n",
              "      <td>7.418000e+03</td>\n",
              "      <td>7.418000e+03</td>\n",
              "      <td>7.418000e+03</td>\n",
              "    </tr>\n",
              "    <tr>\n",
              "      <th>mean</th>\n",
              "      <td>4.376236e-17</td>\n",
              "      <td>3.351660e-16</td>\n",
              "      <td>-5.714251e-17</td>\n",
              "      <td>3.747639e-17</td>\n",
              "      <td>-2.530854e-17</td>\n",
              "      <td>1.241031e-16</td>\n",
              "      <td>-2.472484e-17</td>\n",
              "      <td>6.670617e-17</td>\n",
              "    </tr>\n",
              "    <tr>\n",
              "      <th>std</th>\n",
              "      <td>1.000067e+00</td>\n",
              "      <td>1.000067e+00</td>\n",
              "      <td>1.000067e+00</td>\n",
              "      <td>1.000067e+00</td>\n",
              "      <td>1.000067e+00</td>\n",
              "      <td>1.000067e+00</td>\n",
              "      <td>1.000067e+00</td>\n",
              "      <td>1.000067e+00</td>\n",
              "    </tr>\n",
              "    <tr>\n",
              "      <th>min</th>\n",
              "      <td>-4.069076e+00</td>\n",
              "      <td>-3.212365e+00</td>\n",
              "      <td>-2.056979e+00</td>\n",
              "      <td>-5.664999e-01</td>\n",
              "      <td>-4.214263e-01</td>\n",
              "      <td>-9.721573e-01</td>\n",
              "      <td>-2.403396e+00</td>\n",
              "      <td>-9.876536e-01</td>\n",
              "    </tr>\n",
              "    <tr>\n",
              "      <th>25%</th>\n",
              "      <td>-3.935512e-01</td>\n",
              "      <td>-6.098337e-01</td>\n",
              "      <td>-4.213551e-01</td>\n",
              "      <td>-3.135535e-01</td>\n",
              "      <td>-3.641223e-01</td>\n",
              "      <td>-6.131088e-01</td>\n",
              "      <td>-5.596448e-01</td>\n",
              "      <td>-6.536805e-01</td>\n",
              "    </tr>\n",
              "    <tr>\n",
              "      <th>50%</th>\n",
              "      <td>1.541676e-01</td>\n",
              "      <td>5.828306e-02</td>\n",
              "      <td>-2.372209e-01</td>\n",
              "      <td>-2.522156e-01</td>\n",
              "      <td>-3.347005e-01</td>\n",
              "      <td>-4.035971e-01</td>\n",
              "      <td>2.596607e-02</td>\n",
              "      <td>-2.055679e-01</td>\n",
              "    </tr>\n",
              "    <tr>\n",
              "      <th>75%</th>\n",
              "      <td>6.272595e-01</td>\n",
              "      <td>6.636026e-01</td>\n",
              "      <td>-7.756522e-03</td>\n",
              "      <td>-1.361935e-01</td>\n",
              "      <td>-2.451601e-01</td>\n",
              "      <td>1.036169e-01</td>\n",
              "      <td>5.204004e-01</td>\n",
              "      <td>3.050963e-01</td>\n",
              "    </tr>\n",
              "    <tr>\n",
              "      <th>max</th>\n",
              "      <td>3.049296e+00</td>\n",
              "      <td>6.707647e+00</td>\n",
              "      <td>7.045259e+00</td>\n",
              "      <td>1.045123e+01</td>\n",
              "      <td>6.635798e+00</td>\n",
              "      <td>4.281091e+00</td>\n",
              "      <td>5.774251e+00</td>\n",
              "      <td>1.003067e+01</td>\n",
              "    </tr>\n",
              "  </tbody>\n",
              "</table>\n",
              "</div>\n",
              "      <button class=\"colab-df-convert\" onclick=\"convertToInteractive('df-05245d2d-8da4-4c62-8839-5773b49de9fe')\"\n",
              "              title=\"Convert this dataframe to an interactive table.\"\n",
              "              style=\"display:none;\">\n",
              "        \n",
              "  <svg xmlns=\"http://www.w3.org/2000/svg\" height=\"24px\"viewBox=\"0 0 24 24\"\n",
              "       width=\"24px\">\n",
              "    <path d=\"M0 0h24v24H0V0z\" fill=\"none\"/>\n",
              "    <path d=\"M18.56 5.44l.94 2.06.94-2.06 2.06-.94-2.06-.94-.94-2.06-.94 2.06-2.06.94zm-11 1L8.5 8.5l.94-2.06 2.06-.94-2.06-.94L8.5 2.5l-.94 2.06-2.06.94zm10 10l.94 2.06.94-2.06 2.06-.94-2.06-.94-.94-2.06-.94 2.06-2.06.94z\"/><path d=\"M17.41 7.96l-1.37-1.37c-.4-.4-.92-.59-1.43-.59-.52 0-1.04.2-1.43.59L10.3 9.45l-7.72 7.72c-.78.78-.78 2.05 0 2.83L4 21.41c.39.39.9.59 1.41.59.51 0 1.02-.2 1.41-.59l7.78-7.78 2.81-2.81c.8-.78.8-2.07 0-2.86zM5.41 20L4 18.59l7.72-7.72 1.47 1.35L5.41 20z\"/>\n",
              "  </svg>\n",
              "      </button>\n",
              "      \n",
              "  <style>\n",
              "    .colab-df-container {\n",
              "      display:flex;\n",
              "      flex-wrap:wrap;\n",
              "      gap: 12px;\n",
              "    }\n",
              "\n",
              "    .colab-df-convert {\n",
              "      background-color: #E8F0FE;\n",
              "      border: none;\n",
              "      border-radius: 50%;\n",
              "      cursor: pointer;\n",
              "      display: none;\n",
              "      fill: #1967D2;\n",
              "      height: 32px;\n",
              "      padding: 0 0 0 0;\n",
              "      width: 32px;\n",
              "    }\n",
              "\n",
              "    .colab-df-convert:hover {\n",
              "      background-color: #E2EBFA;\n",
              "      box-shadow: 0px 1px 2px rgba(60, 64, 67, 0.3), 0px 1px 3px 1px rgba(60, 64, 67, 0.15);\n",
              "      fill: #174EA6;\n",
              "    }\n",
              "\n",
              "    [theme=dark] .colab-df-convert {\n",
              "      background-color: #3B4455;\n",
              "      fill: #D2E3FC;\n",
              "    }\n",
              "\n",
              "    [theme=dark] .colab-df-convert:hover {\n",
              "      background-color: #434B5C;\n",
              "      box-shadow: 0px 1px 3px 1px rgba(0, 0, 0, 0.15);\n",
              "      filter: drop-shadow(0px 1px 2px rgba(0, 0, 0, 0.3));\n",
              "      fill: #FFFFFF;\n",
              "    }\n",
              "  </style>\n",
              "\n",
              "      <script>\n",
              "        const buttonEl =\n",
              "          document.querySelector('#df-05245d2d-8da4-4c62-8839-5773b49de9fe button.colab-df-convert');\n",
              "        buttonEl.style.display =\n",
              "          google.colab.kernel.accessAllowed ? 'block' : 'none';\n",
              "\n",
              "        async function convertToInteractive(key) {\n",
              "          const element = document.querySelector('#df-05245d2d-8da4-4c62-8839-5773b49de9fe');\n",
              "          const dataTable =\n",
              "            await google.colab.kernel.invokeFunction('convertToInteractive',\n",
              "                                                     [key], {});\n",
              "          if (!dataTable) return;\n",
              "\n",
              "          const docLinkHtml = 'Like what you see? Visit the ' +\n",
              "            '<a target=\"_blank\" href=https://colab.research.google.com/notebooks/data_table.ipynb>data table notebook</a>'\n",
              "            + ' to learn more about interactive tables.';\n",
              "          element.innerHTML = '';\n",
              "          dataTable['output_type'] = 'display_data';\n",
              "          await google.colab.output.renderOutput(dataTable, element);\n",
              "          const docLink = document.createElement('div');\n",
              "          docLink.innerHTML = docLinkHtml;\n",
              "          element.appendChild(docLink);\n",
              "        }\n",
              "      </script>\n",
              "    </div>\n",
              "  </div>\n",
              "  "
            ],
            "text/plain": [
              "            IP Mean         IP Sd  ... DM-SNR Kurtosis DM-SNR Skewness\n",
              "count  7.418000e+03  7.418000e+03  ...    7.418000e+03    7.418000e+03\n",
              "mean   4.376236e-17  3.351660e-16  ...   -2.472484e-17    6.670617e-17\n",
              "std    1.000067e+00  1.000067e+00  ...    1.000067e+00    1.000067e+00\n",
              "min   -4.069076e+00 -3.212365e+00  ...   -2.403396e+00   -9.876536e-01\n",
              "25%   -3.935512e-01 -6.098337e-01  ...   -5.596448e-01   -6.536805e-01\n",
              "50%    1.541676e-01  5.828306e-02  ...    2.596607e-02   -2.055679e-01\n",
              "75%    6.272595e-01  6.636026e-01  ...    5.204004e-01    3.050963e-01\n",
              "max    3.049296e+00  6.707647e+00  ...    5.774251e+00    1.003067e+01\n",
              "\n",
              "[8 rows x 8 columns]"
            ]
          },
          "metadata": {},
          "execution_count": 187
        }
      ]
    },
    {
      "cell_type": "markdown",
      "source": [
        "We now have `X_train` dataset ready to be fed into the Logistic Regression classifier. I will do it as follows."
      ],
      "metadata": {
        "id": "msHrQ__c266Q"
      }
    },
    {
      "cell_type": "markdown",
      "source": [
        "# **12. Run SVM with default hyperparameters** <a class=\"anchor\" id=\"12\"></a>\n",
        "\n",
        "\n",
        "\n",
        "\n",
        "Default hyperparameter means C=1.0,  kernel=`rbf` and gamma=`auto` among other parameters."
      ],
      "metadata": {
        "id": "J1Xit7H6266Q"
      }
    },
    {
      "cell_type": "code",
      "source": [
        "# import SVC classifier\n",
        "from sklearn.svm import SVC\n",
        "\n",
        "# import metrics to compute accuracy\n",
        "from sklearn.metrics import accuracy_score\n",
        "\n",
        "\n",
        "# instantiate classifier with default hyperparameters\n",
        "v1 = SVC()\n",
        "\n",
        "# fit classifier to training set\n",
        "v1.fit(X_train, y_train)\n",
        "\n",
        "# make predictions on test set\n",
        "y_pred = v1.predict(X_test)\n",
        "\n",
        "# compute and print accuracy score\n",
        "print('Model accuracy score with default hyperparameters: {0:0.4f}'. format(accuracy_score(y_test, y_pred)))"
      ],
      "metadata": {
        "trusted": true,
        "id": "PpM3k62L266Q",
        "colab": {
          "base_uri": "https://localhost:8080/"
        },
        "outputId": "d920fd2c-3273-4b5b-9856-9199dae31347"
      },
      "execution_count": 190,
      "outputs": [
        {
          "output_type": "stream",
          "name": "stderr",
          "text": [
            "/usr/local/lib/python3.7/dist-packages/sklearn/utils/validation.py:1692: FutureWarning: Feature names only support names that are all strings. Got feature names with dtypes: ['tuple']. An error will be raised in 1.2.\n",
            "  FutureWarning,\n"
          ]
        },
        {
          "output_type": "stream",
          "name": "stdout",
          "text": [
            "Model accuracy score with default hyperparameters: 0.9763\n"
          ]
        },
        {
          "output_type": "stream",
          "name": "stderr",
          "text": [
            "/usr/local/lib/python3.7/dist-packages/sklearn/utils/validation.py:1692: FutureWarning: Feature names only support names that are all strings. Got feature names with dtypes: ['tuple']. An error will be raised in 1.2.\n",
            "  FutureWarning,\n"
          ]
        }
      ]
    },
    {
      "cell_type": "markdown",
      "source": [
        "### Run SVM with rbf kernel and C=100.0\n",
        "\n",
        "\n",
        "We have seen that there are outliers in our dataset. So, we should increase the value of C as higher C means fewer outliers. \n",
        "So, I will run SVM with kernel=`rbf` and C=100.0."
      ],
      "metadata": {
        "id": "7VgbvLXH266Q"
      }
    },
    {
      "cell_type": "code",
      "source": [
        "# instantiate classifier with rbf kernel and C=100\n",
        "v2 = SVC(C=100)\n",
        "\n",
        "# fit classifier to training set\n",
        "v2.fit(X_train, y_train)\n",
        "\n",
        "\n",
        "# make predictions on test set\n",
        "y_pred = v2.predict(X_test)\n",
        "\n",
        "\n",
        "# compute and print accuracy score\n",
        "print('Model accuracy score with rbf kernel and C=100.0 : {0:0.4f}'. format(accuracy_score(y_test, y_pred)))"
      ],
      "metadata": {
        "trusted": true,
        "id": "0ASzWkG_266Q",
        "colab": {
          "base_uri": "https://localhost:8080/"
        },
        "outputId": "8a1cdfd9-928e-42cf-e420-dc896a901c4e"
      },
      "execution_count": 193,
      "outputs": [
        {
          "output_type": "stream",
          "name": "stderr",
          "text": [
            "/usr/local/lib/python3.7/dist-packages/sklearn/utils/validation.py:1692: FutureWarning: Feature names only support names that are all strings. Got feature names with dtypes: ['tuple']. An error will be raised in 1.2.\n",
            "  FutureWarning,\n"
          ]
        },
        {
          "output_type": "stream",
          "name": "stdout",
          "text": [
            "Model accuracy score with rbf kernel and C=100.0 : 0.9752\n"
          ]
        },
        {
          "output_type": "stream",
          "name": "stderr",
          "text": [
            "/usr/local/lib/python3.7/dist-packages/sklearn/utils/validation.py:1692: FutureWarning: Feature names only support names that are all strings. Got feature names with dtypes: ['tuple']. An error will be raised in 1.2.\n",
            "  FutureWarning,\n"
          ]
        }
      ]
    },
    {
      "cell_type": "markdown",
      "source": [
        "We can see that we obtain a higher accuracy with C=100.0 as higher C means less outliers.\n",
        "\n",
        "Now, I will further increase the value of C=1000.0 and check accuracy."
      ],
      "metadata": {
        "id": "YGcWwbAh266Q"
      }
    },
    {
      "cell_type": "markdown",
      "source": [
        "### Run SVM with rbf kernel and C=1000.0\n"
      ],
      "metadata": {
        "id": "3grQeJIn266R"
      }
    },
    {
      "cell_type": "code",
      "source": [
        "# instantiate classifier with rbf kernel and C=1000\n",
        "v3 = SVC(C=1000)\n",
        "\n",
        "\n",
        "# fit classifier to training set\n",
        "v3.fit(X_train, y_train)\n",
        "\n",
        "\n",
        "# make predictions on test set\n",
        "y_pred = v3.predict(X_test)\n",
        "\n",
        "# compute and print accuracy score\n",
        "print('Model accuracy score with rbf kernel and C=1000.0 : {0:0.4f}'. format(accuracy_score(y_test, y_pred)))"
      ],
      "metadata": {
        "trusted": true,
        "id": "BouLhKWu266R",
        "colab": {
          "base_uri": "https://localhost:8080/"
        },
        "outputId": "cce525ff-938f-4771-f639-b37248f0eaf4"
      },
      "execution_count": 196,
      "outputs": [
        {
          "output_type": "stream",
          "name": "stderr",
          "text": [
            "/usr/local/lib/python3.7/dist-packages/sklearn/utils/validation.py:1692: FutureWarning: Feature names only support names that are all strings. Got feature names with dtypes: ['tuple']. An error will be raised in 1.2.\n",
            "  FutureWarning,\n"
          ]
        },
        {
          "output_type": "stream",
          "name": "stdout",
          "text": [
            "Model accuracy score with rbf kernel and C=1000.0 : 0.9741\n"
          ]
        },
        {
          "output_type": "stream",
          "name": "stderr",
          "text": [
            "/usr/local/lib/python3.7/dist-packages/sklearn/utils/validation.py:1692: FutureWarning: Feature names only support names that are all strings. Got feature names with dtypes: ['tuple']. An error will be raised in 1.2.\n",
            "  FutureWarning,\n"
          ]
        }
      ]
    },
    {
      "cell_type": "markdown",
      "source": [
        "In this case, we can see that the accuracy had decreased with C=1000.0"
      ],
      "metadata": {
        "id": "lVkmNEC5266R"
      }
    },
    {
      "cell_type": "markdown",
      "source": [
        "# **13. Run SVM with linear kernel** <a class=\"anchor\" id=\"13\"></a>\n",
        "\n",
        "\n",
        "### Run SVM with linear kernel and C=1.0"
      ],
      "metadata": {
        "id": "C1587ew2266R"
      }
    },
    {
      "cell_type": "code",
      "source": [
        "# instantiate classifier with linear kernel and C=1.0\n",
        "v4 = SVC(kernel='linear')\n",
        "\n",
        "\n",
        "# fit classifier to training set\n",
        "v4.fit(X_train, y_train)\n",
        "\n",
        "\n",
        "# make predictions on test set\n",
        "y_pred= v4.predict(X_test)\n",
        "\n",
        "\n",
        "# compute and print accuracy score\n",
        "print('Model accuracy score with linear kernel and C=1.0 : {0:0.4f}'. format(accuracy_score(y_test, y_pred)))\n"
      ],
      "metadata": {
        "trusted": true,
        "id": "0IgzanHz266R",
        "colab": {
          "base_uri": "https://localhost:8080/"
        },
        "outputId": "2996ff7f-b442-4ffb-e281-d63d63462aee"
      },
      "execution_count": 198,
      "outputs": [
        {
          "output_type": "stream",
          "name": "stdout",
          "text": [
            "Model accuracy score with linear kernel and C=1.0 : 0.9747\n"
          ]
        },
        {
          "output_type": "stream",
          "name": "stderr",
          "text": [
            "/usr/local/lib/python3.7/dist-packages/sklearn/utils/validation.py:1692: FutureWarning: Feature names only support names that are all strings. Got feature names with dtypes: ['tuple']. An error will be raised in 1.2.\n",
            "  FutureWarning,\n",
            "/usr/local/lib/python3.7/dist-packages/sklearn/utils/validation.py:1692: FutureWarning: Feature names only support names that are all strings. Got feature names with dtypes: ['tuple']. An error will be raised in 1.2.\n",
            "  FutureWarning,\n"
          ]
        }
      ]
    },
    {
      "cell_type": "markdown",
      "source": [
        "### Run SVM with linear kernel and C=100.0"
      ],
      "metadata": {
        "id": "OkOVKJl4266R"
      }
    },
    {
      "cell_type": "code",
      "source": [
        "# instantiate classifier with linear kernel and C=100.0\n",
        "v5 = SVC(kernel = 'linear', C =100)\n",
        "\n",
        "\n",
        "# fit classifier to training set\n",
        "v5.fit(X_train, y_train)\n",
        "\n",
        "\n",
        "# make predictions on test set\n",
        "y_pred = v5.predict(X_test)\n",
        "\n",
        "\n",
        "# compute and print accuracy score\n",
        "print('Model accuracy score with linear kernel and C=100.0 : {0:0.4f}'. format(accuracy_score(y_test, y_pred)))"
      ],
      "metadata": {
        "trusted": true,
        "id": "bVM0kbEk266R",
        "colab": {
          "base_uri": "https://localhost:8080/"
        },
        "outputId": "2d577c1b-4d68-4dac-c6dd-980a2f68e8b2"
      },
      "execution_count": 199,
      "outputs": [
        {
          "output_type": "stream",
          "name": "stderr",
          "text": [
            "/usr/local/lib/python3.7/dist-packages/sklearn/utils/validation.py:1692: FutureWarning: Feature names only support names that are all strings. Got feature names with dtypes: ['tuple']. An error will be raised in 1.2.\n",
            "  FutureWarning,\n"
          ]
        },
        {
          "output_type": "stream",
          "name": "stdout",
          "text": [
            "Model accuracy score with linear kernel and C=1.0 : 0.9747\n"
          ]
        },
        {
          "output_type": "stream",
          "name": "stderr",
          "text": [
            "/usr/local/lib/python3.7/dist-packages/sklearn/utils/validation.py:1692: FutureWarning: Feature names only support names that are all strings. Got feature names with dtypes: ['tuple']. An error will be raised in 1.2.\n",
            "  FutureWarning,\n"
          ]
        }
      ]
    },
    {
      "cell_type": "markdown",
      "source": [
        "### Run SVM with linear kernel and C=1000.0"
      ],
      "metadata": {
        "id": "wfQgZEm1266S"
      }
    },
    {
      "cell_type": "code",
      "source": [
        "# instantiate classifier with linear kernel and C=100.0\n",
        "v6 = SVC(kernel = 'linear', C =1000)\n",
        "\n",
        "\n",
        "# fit classifier to training set\n",
        "v6.fit(X_train, y_train)\n",
        "\n",
        "\n",
        "# make predictions on test set\n",
        "y_pred = v6.predict(X_test)\n",
        "\n",
        "\n",
        "# compute and print accuracy score\n",
        "print('Model accuracy score with linear kernel and C=1000.0 : {0:0.4f}'. format(accuracy_score(y_test, y_pred)))"
      ],
      "metadata": {
        "trusted": true,
        "id": "AGHgFeGs266S",
        "colab": {
          "base_uri": "https://localhost:8080/"
        },
        "outputId": "fa8c424f-4417-4654-8ae1-7fabdf74cac3"
      },
      "execution_count": 200,
      "outputs": [
        {
          "output_type": "stream",
          "name": "stderr",
          "text": [
            "/usr/local/lib/python3.7/dist-packages/sklearn/utils/validation.py:1692: FutureWarning: Feature names only support names that are all strings. Got feature names with dtypes: ['tuple']. An error will be raised in 1.2.\n",
            "  FutureWarning,\n"
          ]
        },
        {
          "output_type": "stream",
          "name": "stdout",
          "text": [
            "Model accuracy score with linear kernel and C=1.0 : 0.9752\n"
          ]
        },
        {
          "output_type": "stream",
          "name": "stderr",
          "text": [
            "/usr/local/lib/python3.7/dist-packages/sklearn/utils/validation.py:1692: FutureWarning: Feature names only support names that are all strings. Got feature names with dtypes: ['tuple']. An error will be raised in 1.2.\n",
            "  FutureWarning,\n"
          ]
        }
      ]
    },
    {
      "cell_type": "markdown",
      "source": [
        "We can see that we can obtain higher accuracy with C=100.0 and C=1000.0 as compared to C=1.0."
      ],
      "metadata": {
        "id": "Cxd2YQiy266S"
      }
    },
    {
      "cell_type": "markdown",
      "source": [
        "Here, **y_test** are the true class labels and **y_pred** are the predicted class labels in the test-set."
      ],
      "metadata": {
        "id": "qNo-QB-4266S"
      }
    },
    {
      "cell_type": "markdown",
      "source": [
        "### Compare the train-set and test-set accuracy\n",
        "\n",
        "\n",
        "Now, I will compare the train-set and test-set accuracy to check for overfitting."
      ],
      "metadata": {
        "id": "t28VdbVh266T"
      }
    },
    {
      "cell_type": "code",
      "source": [
        "y_pred_train = v4.predict(X_train)\n",
        "\n",
        "y_pred_train"
      ],
      "metadata": {
        "trusted": true,
        "id": "UevotRCH266T",
        "colab": {
          "base_uri": "https://localhost:8080/"
        },
        "outputId": "a4d42d36-3f51-43e7-f17e-68d695fba2b4"
      },
      "execution_count": 202,
      "outputs": [
        {
          "output_type": "stream",
          "name": "stderr",
          "text": [
            "/usr/local/lib/python3.7/dist-packages/sklearn/utils/validation.py:1692: FutureWarning: Feature names only support names that are all strings. Got feature names with dtypes: ['tuple']. An error will be raised in 1.2.\n",
            "  FutureWarning,\n"
          ]
        },
        {
          "output_type": "execute_result",
          "data": {
            "text/plain": [
              "array([0., 0., 0., ..., 0., 0., 0.])"
            ]
          },
          "metadata": {},
          "execution_count": 202
        }
      ]
    },
    {
      "cell_type": "code",
      "source": [
        "print('Training-set accuracy score: {0:0.4f}'. format(accuracy_score(y_train, y_pred_train)))"
      ],
      "metadata": {
        "trusted": true,
        "id": "fXd5icaj266T",
        "colab": {
          "base_uri": "https://localhost:8080/"
        },
        "outputId": "842629ea-e022-46b5-d22a-bc346800a334"
      },
      "execution_count": 203,
      "outputs": [
        {
          "output_type": "stream",
          "name": "stdout",
          "text": [
            "Training-set accuracy score: 0.9790\n"
          ]
        }
      ]
    },
    {
      "cell_type": "markdown",
      "source": [
        "We can see that the training set and test-set accuracy are very much comparable."
      ],
      "metadata": {
        "id": "EzE8Nnyb266U"
      }
    },
    {
      "cell_type": "markdown",
      "source": [
        "### Check for overfitting and underfitting"
      ],
      "metadata": {
        "id": "srGQP9yk266U"
      }
    },
    {
      "cell_type": "code",
      "source": [
        "# print the scores on training and test set\n",
        "print(accuracy_score(y_train, y_pred_train), accuracy_score(y_test, y_pred))\n"
      ],
      "metadata": {
        "trusted": true,
        "id": "xGFK2KSt266U",
        "colab": {
          "base_uri": "https://localhost:8080/"
        },
        "outputId": "186b80ea-d8ac-459a-b4c8-8fbbf0173a1e"
      },
      "execution_count": 206,
      "outputs": [
        {
          "output_type": "stream",
          "name": "stdout",
          "text": [
            "0.9789700727959019 0.9752021563342318\n"
          ]
        }
      ]
    },
    {
      "cell_type": "markdown",
      "source": [
        "The training-set accuracy score is ~0.97 while the test-set accuracy to be ~0.97. These two values are quite comparable. So, there is no question of overfitting. \n"
      ],
      "metadata": {
        "id": "qD26Z8WW266U"
      }
    },
    {
      "cell_type": "markdown",
      "source": [
        "### Compare model accuracy with null accuracy\n",
        "\n",
        "\n",
        "So, the model accuracy is 0.9752. But, we cannot say that our model is very good based on the above accuracy. We must compare it with the **null accuracy**. Null accuracy is the accuracy that could be achieved by always predicting the most frequent class.\n",
        "\n",
        "So, we should first check the class distribution in the test set. "
      ],
      "metadata": {
        "id": "d4Dh8qJR266U"
      }
    },
    {
      "cell_type": "code",
      "source": [
        "# check class distribution in test set\n",
        "pd.Series(y_test).value_counts()"
      ],
      "metadata": {
        "trusted": true,
        "id": "s76cn-cG266U",
        "colab": {
          "base_uri": "https://localhost:8080/"
        },
        "outputId": "9aed0c20-af94-4b5f-85b5-afefe66e0364"
      },
      "execution_count": 215,
      "outputs": [
        {
          "output_type": "execute_result",
          "data": {
            "text/plain": [
              "0.0    1678\n",
              "1.0     177\n",
              "Name: target_class, dtype: int64"
            ]
          },
          "metadata": {},
          "execution_count": 215
        }
      ]
    },
    {
      "cell_type": "markdown",
      "source": [
        "We can see that the occurences of most frequent class `0` is 3306. So, we can calculate null accuracy by dividing 3306 by total number of occurences."
      ],
      "metadata": {
        "id": "kBkfBXdp266U"
      }
    },
    {
      "cell_type": "code",
      "source": [
        "# check null accuracy score\n",
        "\n",
        "null_accuracy = (1678/(1678+177))\n",
        "\n",
        "print('Null accuracy score: {0:0.4f}'. format(null_accuracy))"
      ],
      "metadata": {
        "trusted": true,
        "id": "WR1PSYbG266V",
        "colab": {
          "base_uri": "https://localhost:8080/"
        },
        "outputId": "d6f457ec-5d5c-471a-d8fc-0db6616292ed"
      },
      "execution_count": 216,
      "outputs": [
        {
          "output_type": "stream",
          "name": "stdout",
          "text": [
            "Null accuracy score: 0.9046\n"
          ]
        }
      ]
    },
    {
      "cell_type": "markdown",
      "source": [
        "We can see that our model accuracy score is ~0.97 but null accuracy score is ~0.90. So, we can conclude that our SVM classifier is doing a very good job in predicting the class labels."
      ],
      "metadata": {
        "id": "gXagH__I266V"
      }
    },
    {
      "cell_type": "markdown",
      "source": [
        "# **14. Run SVM with polynomial kernel** <a class=\"anchor\" id=\"14\"></a>\n",
        "\n",
        "\n",
        "\n",
        "### Run SVM with polynomial kernel and C=1.0"
      ],
      "metadata": {
        "id": "geAheTcf266V"
      }
    },
    {
      "cell_type": "code",
      "source": [
        "# instantiate classifier with linear kernel and C=100.0\n",
        "v7 = SVC(kernel = 'poly', C =1)\n",
        "\n",
        "\n",
        "# fit classifier to training set\n",
        "v7.fit(X_train, y_train)\n",
        "\n",
        "\n",
        "# make predictions on test set\n",
        "y_pred = v7.predict(X_test)\n",
        "\n",
        "\n",
        "# compute and print accuracy score\n",
        "print('Model accuracy score with polynomial kernel and C=1 : {0:0.4f}'. format(accuracy_score(y_test, y_pred)))"
      ],
      "metadata": {
        "trusted": true,
        "id": "ofUqtfLq266V",
        "colab": {
          "base_uri": "https://localhost:8080/"
        },
        "outputId": "c98b858d-17e4-445b-b0c9-9c39c79893f7"
      },
      "execution_count": 219,
      "outputs": [
        {
          "output_type": "stream",
          "name": "stderr",
          "text": [
            "/usr/local/lib/python3.7/dist-packages/sklearn/utils/validation.py:1692: FutureWarning: Feature names only support names that are all strings. Got feature names with dtypes: ['tuple']. An error will be raised in 1.2.\n",
            "  FutureWarning,\n"
          ]
        },
        {
          "output_type": "stream",
          "name": "stdout",
          "text": [
            "Model accuracy score with polynomial kernel and C=1 : 0.9736\n"
          ]
        },
        {
          "output_type": "stream",
          "name": "stderr",
          "text": [
            "/usr/local/lib/python3.7/dist-packages/sklearn/utils/validation.py:1692: FutureWarning: Feature names only support names that are all strings. Got feature names with dtypes: ['tuple']. An error will be raised in 1.2.\n",
            "  FutureWarning,\n"
          ]
        }
      ]
    },
    {
      "cell_type": "markdown",
      "source": [
        " ### Run SVM with polynomial kernel and C=100.0"
      ],
      "metadata": {
        "id": "eNzoh5qF266V"
      }
    },
    {
      "cell_type": "code",
      "source": [
        "# instantiate classifier with linear kernel and C=100.0\n",
        "v8 = SVC(kernel = 'poly', C =100)\n",
        "\n",
        "\n",
        "# fit classifier to training set\n",
        "v8.fit(X_train, y_train)\n",
        "\n",
        "\n",
        "# make predictions on test set\n",
        "y_pred = v8.predict(X_test)\n",
        "\n",
        "\n",
        "# compute and print accuracy score\n",
        "print('Model accuracy score with polynomial kernel and C=100 : {0:0.4f}'. format(accuracy_score(y_test, y_pred)))"
      ],
      "metadata": {
        "trusted": true,
        "id": "VHVE4wZx266V",
        "colab": {
          "base_uri": "https://localhost:8080/"
        },
        "outputId": "6ac763d0-16ae-4175-caee-a44616633ad4"
      },
      "execution_count": 220,
      "outputs": [
        {
          "output_type": "stream",
          "name": "stderr",
          "text": [
            "/usr/local/lib/python3.7/dist-packages/sklearn/utils/validation.py:1692: FutureWarning: Feature names only support names that are all strings. Got feature names with dtypes: ['tuple']. An error will be raised in 1.2.\n",
            "  FutureWarning,\n"
          ]
        },
        {
          "output_type": "stream",
          "name": "stdout",
          "text": [
            "Model accuracy score with polynomial kernel and C=100 : 0.9720\n"
          ]
        },
        {
          "output_type": "stream",
          "name": "stderr",
          "text": [
            "/usr/local/lib/python3.7/dist-packages/sklearn/utils/validation.py:1692: FutureWarning: Feature names only support names that are all strings. Got feature names with dtypes: ['tuple']. An error will be raised in 1.2.\n",
            "  FutureWarning,\n"
          ]
        }
      ]
    },
    {
      "cell_type": "markdown",
      "source": [
        "Polynomial kernel gives poor performance. It may be overfitting the training set."
      ],
      "metadata": {
        "id": "ZZ_8c0Kc266V"
      }
    },
    {
      "cell_type": "markdown",
      "source": [
        "# **15. Run SVM with sigmoid kernel** <a class=\"anchor\" id=\"15\"></a>\n",
        "\n",
        "\n",
        "\n",
        "\n",
        "### Run SVM with sigmoid kernel and C=1.0"
      ],
      "metadata": {
        "id": "982659Y8266V"
      }
    },
    {
      "cell_type": "code",
      "source": [
        "# instantiate classifier with linear kernel and C=100.0\n",
        "v9 = SVC(kernel = 'sigmoid', C =1)\n",
        "\n",
        "\n",
        "# fit classifier to training set\n",
        "v9.fit(X_train, y_train)\n",
        "\n",
        "\n",
        "# make predictions on test set\n",
        "y_pred = v9.predict(X_test)\n",
        "\n",
        "\n",
        "# compute and print accuracy score\n",
        "print('Model accuracy score with sigmoid kernel and C=1 : {0:0.4f}'. format(accuracy_score(y_test, y_pred)))"
      ],
      "metadata": {
        "trusted": true,
        "id": "CpzMGngC266W",
        "colab": {
          "base_uri": "https://localhost:8080/"
        },
        "outputId": "8e8d0a24-5782-42f2-dbe8-f9dcbe8146e5"
      },
      "execution_count": 222,
      "outputs": [
        {
          "output_type": "stream",
          "name": "stderr",
          "text": [
            "/usr/local/lib/python3.7/dist-packages/sklearn/utils/validation.py:1692: FutureWarning: Feature names only support names that are all strings. Got feature names with dtypes: ['tuple']. An error will be raised in 1.2.\n",
            "  FutureWarning,\n"
          ]
        },
        {
          "output_type": "stream",
          "name": "stdout",
          "text": [
            "Model accuracy score with sigmoid kernel and C=1 : 0.8814\n"
          ]
        },
        {
          "output_type": "stream",
          "name": "stderr",
          "text": [
            "/usr/local/lib/python3.7/dist-packages/sklearn/utils/validation.py:1692: FutureWarning: Feature names only support names that are all strings. Got feature names with dtypes: ['tuple']. An error will be raised in 1.2.\n",
            "  FutureWarning,\n"
          ]
        }
      ]
    },
    {
      "cell_type": "markdown",
      "source": [
        "### Run SVM with sigmoid kernel and C=100.0"
      ],
      "metadata": {
        "id": "y7dYIEvK266W"
      }
    },
    {
      "cell_type": "code",
      "source": [
        "# instantiate classifier with linear kernel and C=100.0\n",
        "v10 = SVC(kernel = 'sigmoid', C =100)\n",
        "\n",
        "\n",
        "# fit classifier to training set\n",
        "v10.fit(X_train, y_train)\n",
        "\n",
        "\n",
        "# make predictions on test set\n",
        "y_pred = v10.predict(X_test)\n",
        "\n",
        "\n",
        "# compute and print accuracy score\n",
        "print('Model accuracy score with sigmoid kernel and C=100 : {0:0.4f}'. format(accuracy_score(y_test, y_pred)))"
      ],
      "metadata": {
        "trusted": true,
        "id": "eHOp2xcr266W",
        "colab": {
          "base_uri": "https://localhost:8080/"
        },
        "outputId": "9c0d2509-6add-4e36-f4d8-8f29248c48fe"
      },
      "execution_count": 223,
      "outputs": [
        {
          "output_type": "stream",
          "name": "stderr",
          "text": [
            "/usr/local/lib/python3.7/dist-packages/sklearn/utils/validation.py:1692: FutureWarning: Feature names only support names that are all strings. Got feature names with dtypes: ['tuple']. An error will be raised in 1.2.\n",
            "  FutureWarning,\n"
          ]
        },
        {
          "output_type": "stream",
          "name": "stdout",
          "text": [
            "Model accuracy score with sigmoid kernel and C=100 : 0.8814\n"
          ]
        },
        {
          "output_type": "stream",
          "name": "stderr",
          "text": [
            "/usr/local/lib/python3.7/dist-packages/sklearn/utils/validation.py:1692: FutureWarning: Feature names only support names that are all strings. Got feature names with dtypes: ['tuple']. An error will be raised in 1.2.\n",
            "  FutureWarning,\n"
          ]
        }
      ]
    },
    {
      "cell_type": "markdown",
      "source": [
        "### Comments\n",
        "What are your conclusions about the above experiment?\n",
        "\n",
        "Bonus: The above dataset is imbalanced. What are the other ways to quantify predictive performance? Carry out experiments using them\n"
      ],
      "metadata": {
        "id": "CkJnhoyN266W"
      }
    },
    {
      "cell_type": "markdown",
      "source": [
        "Ans: As the dataset is imbalanced, to counter this we can try using comparable numbers in our training set. One another method is to get more data or use virtual data "
      ],
      "metadata": {
        "id": "K-yZak9ESCn3"
      }
    },
    {
      "cell_type": "markdown",
      "source": [
        "ROC curve help us to choose a threshold level that balances sensitivity and specificity for a particular context."
      ],
      "metadata": {
        "id": "oKnuzo2X266W"
      }
    },
    {
      "cell_type": "markdown",
      "source": [
        "# **22. References** <a class=\"anchor\" id=\"22\"></a>\n",
        "\n",
        "\n",
        "\n",
        "The work done in this project is inspired from following books and websites:-\n",
        "\n",
        "  1. Hands on Machine Learning with Scikit-Learn and Tensorflow by Aurélién Géron\n",
        "\n",
        "  2. Introduction to Machine Learning with Python by Andreas C. Müller and Sarah Guido\n",
        "\n",
        "  3. Udemy course – Machine Learning – A Z by Kirill Eremenko and Hadelin de Ponteves\n",
        "\n",
        "  4. Udemy course – Feature Engineering for Machine Learning by Soledad Galli\n",
        "\n",
        "  5. https://en.wikipedia.org/wiki/Support-vector_machine\n",
        "\n",
        "  6. https://www.datacamp.com/community/tutorials/svm-classification-scikit-learn-python\n",
        "\n",
        "  7. http://dataaspirant.com/2017/01/13/support-vector-machine-algorithm/\n",
        "\n",
        "  8. https://www.ritchieng.com/machine-learning-evaluate-classification-model/\n",
        "\n",
        "  9. https://en.wikipedia.org/wiki/Kernel_method\n",
        "\n",
        "  10. https://en.wikipedia.org/wiki/Polynomial_kernel\n",
        "\n",
        "  11. https://en.wikipedia.org/wiki/Radial_basis_function_kernel\n",
        "\n",
        "  12. https://data-flair.training/blogs/svm-kernel-functions/"
      ],
      "metadata": {
        "id": "BDNG-aRS266W"
      }
    },
    {
      "cell_type": "markdown",
      "source": [
        "[Go to Top](#0)"
      ],
      "metadata": {
        "id": "t5FCFf8F266W"
      }
    }
  ]
}